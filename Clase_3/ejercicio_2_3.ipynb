{
 "cells": [
  {
   "cell_type": "code",
   "execution_count": 1,
   "id": "47278084",
   "metadata": {},
   "outputs": [],
   "source": [
    "import numpy as np\n",
    "import pandas as pd"
   ]
  },
  {
   "cell_type": "markdown",
   "id": "72284c44",
   "metadata": {},
   "source": [
    "## eliminar filas o columnas"
   ]
  },
  {
   "cell_type": "code",
   "execution_count": 45,
   "id": "0140da1d",
   "metadata": {},
   "outputs": [],
   "source": [
    "def drop_nan_rows(data):\n",
    "    data = data.to_numpy()\n",
    "    data_filt = np.delete(data,(np.where(np.isnan(data))), axis = 0)\n",
    "    return data_filt"
   ]
  },
  {
   "cell_type": "code",
   "execution_count": 46,
   "id": "2abc4e59",
   "metadata": {},
   "outputs": [],
   "source": [
    "def drop_nan_cols(data):\n",
    "    data = data.to_numpy()\n",
    "    data_filt = np.delete(data,(np.where(np.isnan(data)[1])), axis = 1)\n",
    "    return data_filt"
   ]
  },
  {
   "cell_type": "code",
   "execution_count": 51,
   "id": "8fee37f9",
   "metadata": {},
   "outputs": [
    {
     "data": {
      "text/plain": [
       "(75, 7)"
      ]
     },
     "execution_count": 51,
     "metadata": {},
     "output_type": "execute_result"
    }
   ],
   "source": [
    "data = pd.read_csv(\"../data/clase3V2.csv\",delimiter=';',header=None)\n",
    "data_filt= drop_nan_rows(data)\n",
    "data_filt.shape"
   ]
  },
  {
   "cell_type": "code",
   "execution_count": 48,
   "id": "04b85532",
   "metadata": {},
   "outputs": [
    {
     "data": {
      "text/plain": [
       "(100, 5)"
      ]
     },
     "execution_count": 48,
     "metadata": {},
     "output_type": "execute_result"
    }
   ],
   "source": [
    "data = pd.read_csv(\"../data/clase3V2.csv\",delimiter=';',header=None)\n",
    "data_filt = drop_nan_cols(data)\n",
    "data_filt.shape"
   ]
  },
  {
   "cell_type": "markdown",
   "id": "51739650",
   "metadata": {},
   "source": [
    "## Imputar por media"
   ]
  },
  {
   "cell_type": "code",
   "execution_count": 103,
   "id": "01bd560d",
   "metadata": {},
   "outputs": [],
   "source": [
    "def imp_mean(data):\n",
    "    return data.fillna(data.mean(axis=0))"
   ]
  },
  {
   "cell_type": "code",
   "execution_count": 107,
   "id": "a75a77de",
   "metadata": {},
   "outputs": [
    {
     "data": {
      "text/html": [
       "<div>\n",
       "<style scoped>\n",
       "    .dataframe tbody tr th:only-of-type {\n",
       "        vertical-align: middle;\n",
       "    }\n",
       "\n",
       "    .dataframe tbody tr th {\n",
       "        vertical-align: top;\n",
       "    }\n",
       "\n",
       "    .dataframe thead th {\n",
       "        text-align: right;\n",
       "    }\n",
       "</style>\n",
       "<table border=\"1\" class=\"dataframe\">\n",
       "  <thead>\n",
       "    <tr style=\"text-align: right;\">\n",
       "      <th></th>\n",
       "      <th>0</th>\n",
       "      <th>1</th>\n",
       "      <th>2</th>\n",
       "      <th>3</th>\n",
       "      <th>4</th>\n",
       "      <th>5</th>\n",
       "      <th>6</th>\n",
       "    </tr>\n",
       "  </thead>\n",
       "  <tbody>\n",
       "    <tr>\n",
       "      <th>0</th>\n",
       "      <td>3.669506</td>\n",
       "      <td>2.863605</td>\n",
       "      <td>4.184569</td>\n",
       "      <td>2.948632</td>\n",
       "      <td>-0.631169</td>\n",
       "      <td>-9.364512</td>\n",
       "      <td>7.564543</td>\n",
       "    </tr>\n",
       "    <tr>\n",
       "      <th>1</th>\n",
       "      <td>13.505001</td>\n",
       "      <td>4.482330</td>\n",
       "      <td>4.184569</td>\n",
       "      <td>0.770769</td>\n",
       "      <td>-0.631169</td>\n",
       "      <td>-3.706287</td>\n",
       "      <td>32.866898</td>\n",
       "    </tr>\n",
       "    <tr>\n",
       "      <th>2</th>\n",
       "      <td>-5.736774</td>\n",
       "      <td>-1.030994</td>\n",
       "      <td>4.184569</td>\n",
       "      <td>0.907981</td>\n",
       "      <td>-0.631169</td>\n",
       "      <td>5.332656</td>\n",
       "      <td>-20.922094</td>\n",
       "    </tr>\n",
       "    <tr>\n",
       "      <th>3</th>\n",
       "      <td>-0.019325</td>\n",
       "      <td>1.909841</td>\n",
       "      <td>4.184569</td>\n",
       "      <td>0.137427</td>\n",
       "      <td>-0.631169</td>\n",
       "      <td>3.400036</td>\n",
       "      <td>1.433380</td>\n",
       "    </tr>\n",
       "    <tr>\n",
       "      <th>4</th>\n",
       "      <td>6.079670</td>\n",
       "      <td>1.528345</td>\n",
       "      <td>4.184569</td>\n",
       "      <td>0.746475</td>\n",
       "      <td>-0.631169</td>\n",
       "      <td>-11.486688</td>\n",
       "      <td>11.867943</td>\n",
       "    </tr>\n",
       "    <tr>\n",
       "      <th>...</th>\n",
       "      <td>...</td>\n",
       "      <td>...</td>\n",
       "      <td>...</td>\n",
       "      <td>...</td>\n",
       "      <td>...</td>\n",
       "      <td>...</td>\n",
       "      <td>...</td>\n",
       "    </tr>\n",
       "    <tr>\n",
       "      <th>95</th>\n",
       "      <td>0.029921</td>\n",
       "      <td>5.364063</td>\n",
       "      <td>9.676388</td>\n",
       "      <td>2.644617</td>\n",
       "      <td>1.877694</td>\n",
       "      <td>-7.677102</td>\n",
       "      <td>24.897925</td>\n",
       "    </tr>\n",
       "    <tr>\n",
       "      <th>96</th>\n",
       "      <td>-1.775782</td>\n",
       "      <td>5.393318</td>\n",
       "      <td>3.854789</td>\n",
       "      <td>3.186040</td>\n",
       "      <td>-1.403002</td>\n",
       "      <td>-3.622327</td>\n",
       "      <td>18.237007</td>\n",
       "    </tr>\n",
       "    <tr>\n",
       "      <th>97</th>\n",
       "      <td>13.162143</td>\n",
       "      <td>0.164868</td>\n",
       "      <td>12.263580</td>\n",
       "      <td>3.105625</td>\n",
       "      <td>-0.426276</td>\n",
       "      <td>-1.829889</td>\n",
       "      <td>43.654064</td>\n",
       "    </tr>\n",
       "    <tr>\n",
       "      <th>98</th>\n",
       "      <td>7.060369</td>\n",
       "      <td>4.293074</td>\n",
       "      <td>3.590226</td>\n",
       "      <td>-0.066123</td>\n",
       "      <td>-2.039099</td>\n",
       "      <td>-3.643987</td>\n",
       "      <td>18.831133</td>\n",
       "    </tr>\n",
       "    <tr>\n",
       "      <th>99</th>\n",
       "      <td>-23.815965</td>\n",
       "      <td>3.424658</td>\n",
       "      <td>1.601140</td>\n",
       "      <td>1.270134</td>\n",
       "      <td>-2.037267</td>\n",
       "      <td>6.164295</td>\n",
       "      <td>-69.318103</td>\n",
       "    </tr>\n",
       "  </tbody>\n",
       "</table>\n",
       "<p>100 rows × 7 columns</p>\n",
       "</div>"
      ],
      "text/plain": [
       "            0         1          2         3         4          5          6\n",
       "0    3.669506  2.863605   4.184569  2.948632 -0.631169  -9.364512   7.564543\n",
       "1   13.505001  4.482330   4.184569  0.770769 -0.631169  -3.706287  32.866898\n",
       "2   -5.736774 -1.030994   4.184569  0.907981 -0.631169   5.332656 -20.922094\n",
       "3   -0.019325  1.909841   4.184569  0.137427 -0.631169   3.400036   1.433380\n",
       "4    6.079670  1.528345   4.184569  0.746475 -0.631169 -11.486688  11.867943\n",
       "..        ...       ...        ...       ...       ...        ...        ...\n",
       "95   0.029921  5.364063   9.676388  2.644617  1.877694  -7.677102  24.897925\n",
       "96  -1.775782  5.393318   3.854789  3.186040 -1.403002  -3.622327  18.237007\n",
       "97  13.162143  0.164868  12.263580  3.105625 -0.426276  -1.829889  43.654064\n",
       "98   7.060369  4.293074   3.590226 -0.066123 -2.039099  -3.643987  18.831133\n",
       "99 -23.815965  3.424658   1.601140  1.270134 -2.037267   6.164295 -69.318103\n",
       "\n",
       "[100 rows x 7 columns]"
      ]
     },
     "execution_count": 107,
     "metadata": {},
     "output_type": "execute_result"
    }
   ],
   "source": [
    "data = pd.read_csv(\"../data/clase3V2.csv\",delimiter=';',header=None)\n",
    "data_imput = imp_mean(data)\n",
    "data_imput"
   ]
  },
  {
   "cell_type": "code",
   "execution_count": null,
   "id": "ef16104a",
   "metadata": {},
   "outputs": [],
   "source": []
  }
 ],
 "metadata": {
  "kernelspec": {
   "display_name": "introia",
   "language": "python",
   "name": "introia"
  },
  "language_info": {
   "codemirror_mode": {
    "name": "ipython",
    "version": 3
   },
   "file_extension": ".py",
   "mimetype": "text/x-python",
   "name": "python",
   "nbconvert_exporter": "python",
   "pygments_lexer": "ipython3",
   "version": "3.9.1"
  }
 },
 "nbformat": 4,
 "nbformat_minor": 5
}
