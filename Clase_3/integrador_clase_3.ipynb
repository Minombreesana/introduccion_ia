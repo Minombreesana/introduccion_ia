{
 "cells": [
  {
   "cell_type": "code",
   "execution_count": 3,
   "id": "6d260baf",
   "metadata": {},
   "outputs": [],
   "source": [
    "import numpy as np\n",
    "import pandas as pd"
   ]
  },
  {
   "cell_type": "code",
   "execution_count": 57,
   "id": "ad40bbe6",
   "metadata": {},
   "outputs": [],
   "source": [
    "class Data:\n",
    "    \n",
    "    def __init__(self, ruta):\n",
    "        self.ruta = ruta\n",
    "        self.upload = self.upload()\n",
    "        self.data_drop_rows = self.drop_nan_rows()\n",
    "        #self.data_mean = self.imp_mean()\n",
    "    \n",
    "    def upload(self):\n",
    "        data = pd.read_csv(self.ruta,delimiter=';',header=None)\n",
    "        data = data.to_numpy()\n",
    "        return data\n",
    "    \n",
    "    def drop_nan_rows(self):\n",
    "        data_filt = np.delete(self.upload,(np.where(np.isnan(self.upload))), axis = 0)\n",
    "        return data_filt\n",
    "    \n",
    "    #def imp_mean(self):\n",
    "        #return self.upload.fillna(self.upload.mean(axis=0))\n",
    "    \n",
    "    def split_dataset(self, data_imput):\n",
    "    \n",
    "        X = data_imput[:,:6]\n",
    "        y = data_imput[:,6:]\n",
    "    \n",
    "        permutation = np.random.permutation(X.shape[0])\n",
    "        train_idx, test_idx, val_idx = np.split(permutation, \n",
    "                 [int(0.8 * len(permutation)), \n",
    "                  int(0.95 *len(permutation))])\n",
    "    \n",
    "        X_train = X[train_idx]\n",
    "        X_test = X[test_idx]\n",
    "        X_val = X[val_idx]\n",
    "\n",
    "        y_train = y[train_idx]\n",
    "        y_test = y[test_idx]\n",
    "        y_val = y[val_idx]\n",
    "        \n",
    "        return X_train, X_test, X_val, y_train, y_test, y_val\n",
    "        "
   ]
  },
  {
   "cell_type": "code",
   "execution_count": 64,
   "id": "274996b4",
   "metadata": {},
   "outputs": [],
   "source": [
    "data= Data(\"../data/clase3V2.csv\")\n",
    "df_imput = data.drop_nan_rows()\n",
    "X_train, X_test, X_val, y_train, y_test, y_val = data.split_dataset(df_imput)"
   ]
  },
  {
   "cell_type": "code",
   "execution_count": 53,
   "id": "0cfdb62e",
   "metadata": {},
   "outputs": [],
   "source": []
  },
  {
   "cell_type": "code",
   "execution_count": 59,
   "id": "ba3813b1",
   "metadata": {},
   "outputs": [],
   "source": []
  },
  {
   "cell_type": "code",
   "execution_count": 60,
   "id": "9642a036",
   "metadata": {},
   "outputs": [
    {
     "data": {
      "text/plain": [
       "(60, 6)"
      ]
     },
     "execution_count": 60,
     "metadata": {},
     "output_type": "execute_result"
    }
   ],
   "source": []
  },
  {
   "cell_type": "code",
   "execution_count": 61,
   "id": "345d3228",
   "metadata": {},
   "outputs": [
    {
     "data": {
      "text/plain": [
       "(11, 6)"
      ]
     },
     "execution_count": 61,
     "metadata": {},
     "output_type": "execute_result"
    }
   ],
   "source": []
  },
  {
   "cell_type": "code",
   "execution_count": 63,
   "id": "387666e7",
   "metadata": {},
   "outputs": [
    {
     "data": {
      "text/plain": [
       "(4, 6)"
      ]
     },
     "execution_count": 63,
     "metadata": {},
     "output_type": "execute_result"
    }
   ],
   "source": []
  },
  {
   "cell_type": "code",
   "execution_count": null,
   "id": "38b5801f",
   "metadata": {},
   "outputs": [],
   "source": []
  }
 ],
 "metadata": {
  "kernelspec": {
   "display_name": "introia",
   "language": "python",
   "name": "introia"
  },
  "language_info": {
   "codemirror_mode": {
    "name": "ipython",
    "version": 3
   },
   "file_extension": ".py",
   "mimetype": "text/x-python",
   "name": "python",
   "nbconvert_exporter": "python",
   "pygments_lexer": "ipython3",
   "version": "3.9.1"
  }
 },
 "nbformat": 4,
 "nbformat_minor": 5
}
