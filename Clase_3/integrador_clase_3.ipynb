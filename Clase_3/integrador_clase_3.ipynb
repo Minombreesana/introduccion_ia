{
 "cells": [
  {
   "cell_type": "code",
   "execution_count": 2,
   "id": "6d260baf",
   "metadata": {},
   "outputs": [],
   "source": [
    "import numpy as np\n",
    "import pandas as pd\n",
    "import numpy.ma as ma\n",
    "from sklearn.decomposition import PCA\n",
    "import matplotlib.pyplot as plt"
   ]
  },
  {
   "cell_type": "code",
   "execution_count": 3,
   "id": "ad40bbe6",
   "metadata": {},
   "outputs": [],
   "source": [
    "class Data:\n",
    "    \n",
    "    def __init__(self, ruta):\n",
    "        self.ruta = ruta\n",
    "        self.upload = self.upload()\n",
    "    \n",
    "    def upload(self):\n",
    "        data = pd.read_csv(self.ruta,delimiter=';',header=None)\n",
    "        data = data.to_numpy()\n",
    "        return data\n",
    "    \n",
    "    def drop_nan_rows(self):\n",
    "        data_filt = np.delete(self.upload,(np.where(np.isnan(self.upload))), axis = 0)\n",
    "        return data_filt\n",
    "    \n",
    "    def imp_mean(self):\n",
    "        data_mean = np.where(np.isnan(self.upload), ma.array(self.upload, mask=np.isnan(self.upload)).mean(axis=0), self.upload)\n",
    "        return data_mean\n",
    " \n",
    "    def split_dataset(self, data_imput, percentage):\n",
    "    \n",
    "        X = data_imput[:,:6]\n",
    "        y = data_imput[:,6:]\n",
    "    \n",
    "        permutation = np.random.permutation(X.shape[0])\n",
    "        train_idx, test_idx = np.split(permutation, \n",
    "                 [int(percentage * len(permutation))])\n",
    "    \n",
    "        X_train = X[train_idx]\n",
    "        X_test = X[test_idx]\n",
    "\n",
    "        y_train = y[train_idx]\n",
    "        y_test = y[test_idx]\n",
    "        \n",
    "        return X_train, X_test, y_train, y_test\n",
    "       "
   ]
  },
  {
   "cell_type": "markdown",
   "id": "7a987c05",
   "metadata": {},
   "source": [
    "## Creación de dos datasets con tratamiento de nans diferentes"
   ]
  },
  {
   "cell_type": "code",
   "execution_count": 4,
   "id": "274996b4",
   "metadata": {},
   "outputs": [
    {
     "name": "stdout",
     "output_type": "stream",
     "text": [
      "(60, 6)\n",
      "(15, 6)\n",
      "(60, 1)\n",
      "(15, 1)\n"
     ]
    }
   ],
   "source": [
    "data= Data(\"../data/clase3V2.csv\")\n",
    "df_imput = data.drop_nan_rows()\n",
    "X_train_drop, X_test_drop, y_train_drop, y_test_drop = data.split_dataset(df_imput, 0.8)\n",
    "print(X_train_drop.shape)\n",
    "print(X_test_drop.shape)\n",
    "print(y_train_drop.shape)\n",
    "print(y_test_drop.shape)"
   ]
  },
  {
   "cell_type": "code",
   "execution_count": 5,
   "id": "0cfdb62e",
   "metadata": {},
   "outputs": [
    {
     "name": "stdout",
     "output_type": "stream",
     "text": [
      "(80, 6)\n",
      "(20, 6)\n",
      "(80, 1)\n",
      "(20, 1)\n"
     ]
    }
   ],
   "source": [
    "df_mean = data.imp_mean()\n",
    "X_train_mean, X_test_mean, y_train_mean, y_test_mean = data.split_dataset(df_mean, 0.8)\n",
    "print(X_train_mean.shape)\n",
    "print(X_test_mean.shape)\n",
    "print(y_train_mean.shape)\n",
    "print(y_test_mean.shape)"
   ]
  },
  {
   "cell_type": "markdown",
   "id": "f30c0066",
   "metadata": {},
   "source": [
    "## aplicación de pca para ambos datasets"
   ]
  },
  {
   "cell_type": "markdown",
   "id": "6a7d926d",
   "metadata": {},
   "source": [
    "#### PCA drop nans"
   ]
  },
  {
   "cell_type": "code",
   "execution_count": 6,
   "id": "9642a036",
   "metadata": {},
   "outputs": [
    {
     "name": "stdout",
     "output_type": "stream",
     "text": [
      "(60, 3)\n",
      "(15, 3)\n"
     ]
    }
   ],
   "source": [
    "pca_drop = PCA(n_components=3, random_state=2).fit(X_train_drop)\n",
    "X_train_pca_drop = pca_drop.transform(X_train_drop)\n",
    "X_test_pca_drop = pca_drop.transform(X_test_drop)\n",
    "print(X_train_pca_drop.shape)\n",
    "print(X_test_pca_drop.shape)"
   ]
  },
  {
   "cell_type": "code",
   "execution_count": 7,
   "id": "c49472e7",
   "metadata": {},
   "outputs": [
    {
     "data": {
      "image/png": "[encoded data removed]",
      "text/plain": [
       "<Figure size 432x288 with 1 Axes>"
      ]
     },
     "metadata": {
      "needs_background": "light"
     },
     "output_type": "display_data"
    }
   ],
   "source": [
    "f ,ax = plt.subplots()\n",
    "ax.scatter(X_train_pca_drop[:,1],y_train_drop, s= 10)\n",
    "ax.set_xlabel('1 componente')\n",
    "ax.set_ylabel('y verdadera')\n",
    "plt.show()"
   ]
  },
  {
   "cell_type": "markdown",
   "id": "ef283475",
   "metadata": {},
   "source": [
    "#### PCA imputación por media"
   ]
  },
  {
   "cell_type": "code",
   "execution_count": 8,
   "id": "9950f4a7",
   "metadata": {},
   "outputs": [
    {
     "name": "stdout",
     "output_type": "stream",
     "text": [
      "(80, 3)\n",
      "(20, 3)\n"
     ]
    }
   ],
   "source": [
    "pca_mean = PCA(n_components=3, random_state=2).fit(X_train_mean)\n",
    "X_train_pca_mean = pca_mean.transform(X_train_mean)\n",
    "X_test_pca_mean = pca_mean.transform(X_test_mean)\n",
    "print(X_train_pca_mean.shape)\n",
    "print(X_test_pca_mean.shape)"
   ]
  },
  {
   "cell_type": "code",
   "execution_count": 9,
   "id": "1dc48a5c",
   "metadata": {},
   "outputs": [
    {
     "data": {
      "image/png": "[encoded data removed]",
      "text/plain": [
       "<Figure size 432x288 with 1 Axes>"
      ]
     },
     "metadata": {
      "needs_background": "light"
     },
     "output_type": "display_data"
    }
   ],
   "source": [
    "f ,ax = plt.subplots()\n",
    "ax.scatter(X_train_pca_mean[:,1],y_train_mean, s= 10)\n",
    "ax.set_xlabel('1 componente')\n",
    "ax.set_ylabel('y verdadera')\n",
    "plt.show()"
   ]
  },
  {
   "cell_type": "markdown",
   "id": "00221f70",
   "metadata": {},
   "source": [
    "## Regresión lineal"
   ]
  },
  {
   "cell_type": "code",
   "execution_count": 10,
   "id": "d12b45e8",
   "metadata": {},
   "outputs": [],
   "source": [
    "class BaseModel(object):\n",
    "\n",
    "    def __init__(self):\n",
    "        self.model = None\n",
    "\n",
    "    def fit(self, X, Y):\n",
    "        return NotImplemented\n",
    "\n",
    "    def predict(self, X):\n",
    "        return NotImplemented\n",
    "\n",
    "class LinearRegression(BaseModel):\n",
    "\n",
    "    def fit(self, x, y):\n",
    "        if len(x.shape) == 1:\n",
    "            b = np.dot(np.linalg.inv(np.dot(x.T,x)), np.dot(x.T,y))\n",
    "        else:\n",
    "            b = np.dot(np.linalg.pinv(np.dot(x.T,x)), np.dot(x.T,y))\n",
    "        self.model = b\n",
    "        \n",
    "\n",
    "    def predict(self, x):\n",
    "        return  x.T * self.model"
   ]
  },
  {
   "cell_type": "markdown",
   "id": "0eafaac4",
   "metadata": {},
   "source": [
    "#### Regresión Lineal para drop nans"
   ]
  },
  {
   "cell_type": "code",
   "execution_count": null,
   "id": "7a9416f6",
   "metadata": {},
   "outputs": [],
   "source": [
    "linear_regression = LinearRegression()\n",
    "linear_regression.fit(X_train_pca_drop, y_train_drop)\n",
    "pred_drop = linear_regression.predict(X_test_pca_drop)"
   ]
  },
  {
   "cell_type": "markdown",
   "id": "78998fcf",
   "metadata": {},
   "source": [
    "#### Regresión Lineal para imputación por media"
   ]
  },
  {
   "cell_type": "code",
   "execution_count": 197,
   "id": "5152d466",
   "metadata": {},
   "outputs": [],
   "source": [
    "linear_regression = LinearRegression()\n",
    "linear_regression.fit(X_train_pca_mean, y_train_mean)\n",
    "pred_mean = linear_regression.predict(X_test_pca_mean)"
   ]
  },
  {
   "cell_type": "markdown",
   "id": "b26d1b9e",
   "metadata": {},
   "source": [
    "## MSE"
   ]
  },
  {
   "cell_type": "code",
   "execution_count": 200,
   "id": "fb7c8145",
   "metadata": {},
   "outputs": [],
   "source": [
    "class Metric(object):\n",
    "    def __call__(self, truth, pred):\n",
    "        return NotImplemented\n",
    "\n",
    "class MSE(Metric):\n",
    "    def __init__(self):\n",
    "        Metric.__init__(self)\n",
    "\n",
    "    def __call__(self, truth, pred):\n",
    "        n = truth.size\n",
    "        return np.sum((truth - pred.T) ** 2) / n\n"
   ]
  },
  {
   "cell_type": "code",
   "execution_count": 201,
   "id": "f2aa781a",
   "metadata": {},
   "outputs": [
    {
     "name": "stdout",
     "output_type": "stream",
     "text": [
      "2217.907237099174\n"
     ]
    }
   ],
   "source": [
    "mse = MSE()\n",
    "mse_drop = mse(y_test_drop, pred_drop)\n",
    "print(mse_drop)"
   ]
  },
  {
   "cell_type": "code",
   "execution_count": 202,
   "id": "6b9789dc",
   "metadata": {},
   "outputs": [
    {
     "name": "stdout",
     "output_type": "stream",
     "text": [
      "1859.0829027517484\n"
     ]
    }
   ],
   "source": [
    "mse = MSE()\n",
    "mse_mean = mse(y_test_mean, pred_mean)\n",
    "print(mse_mean)"
   ]
  },
  {
   "cell_type": "code",
   "execution_count": null,
   "id": "a4f1de49",
   "metadata": {},
   "outputs": [],
   "source": []
  }
 ],
 "metadata": {
  "kernelspec": {
   "display_name": "introia",
   "language": "python",
   "name": "introia"
  },
  "language_info": {
   "codemirror_mode": {
    "name": "ipython",
    "version": 3
   },
   "file_extension": ".py",
   "mimetype": "text/x-python",
   "name": "python",
   "nbconvert_exporter": "python",
   "pygments_lexer": "ipython3",
   "version": "3.9.1"
  }
 },
 "nbformat": 4,
 "nbformat_minor": 5
}
