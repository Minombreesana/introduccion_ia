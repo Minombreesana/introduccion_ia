{
 "cells": [
  {
   "cell_type": "code",
   "execution_count": 1,
   "id": "bc7e83b4",
   "metadata": {},
   "outputs": [],
   "source": [
    "import numpy as np\n",
    "import pandas as pd"
   ]
  },
  {
   "cell_type": "code",
   "execution_count": 28,
   "id": "e77852a3",
   "metadata": {},
   "outputs": [],
   "source": [
    "def split_dataset(data):\n",
    "    data = data.to_numpy()\n",
    "    permutation = np.random.permutation(data)\n",
    "    train, test, val = np.split(permutation, \n",
    "             [int(0.7 * len(permutation)), \n",
    "              int(0.90 *len(permutation))])\n",
    "    return train, test, val\n",
    "    "
   ]
  },
  {
   "cell_type": "code",
   "execution_count": 29,
   "id": "6b694f09",
   "metadata": {},
   "outputs": [],
   "source": [
    "data = pd.read_csv(\"../data/clase3V2.csv\",delimiter=';',header=None)"
   ]
  },
  {
   "cell_type": "code",
   "execution_count": 30,
   "id": "d8ed5902",
   "metadata": {},
   "outputs": [],
   "source": [
    "train, test, val = split_dataset(data)"
   ]
  },
  {
   "cell_type": "code",
   "execution_count": 31,
   "id": "e2b6112d",
   "metadata": {},
   "outputs": [
    {
     "data": {
      "text/plain": [
       "(70, 7)"
      ]
     },
     "execution_count": 31,
     "metadata": {},
     "output_type": "execute_result"
    }
   ],
   "source": [
    "train.shape"
   ]
  },
  {
   "cell_type": "code",
   "execution_count": 32,
   "id": "522c0000",
   "metadata": {},
   "outputs": [
    {
     "data": {
      "text/plain": [
       "(20, 7)"
      ]
     },
     "execution_count": 32,
     "metadata": {},
     "output_type": "execute_result"
    }
   ],
   "source": [
    "test.shape"
   ]
  },
  {
   "cell_type": "code",
   "execution_count": 33,
   "id": "18931728",
   "metadata": {},
   "outputs": [
    {
     "data": {
      "text/plain": [
       "(10, 7)"
      ]
     },
     "execution_count": 33,
     "metadata": {},
     "output_type": "execute_result"
    }
   ],
   "source": [
    "val.shape"
   ]
  },
  {
   "cell_type": "code",
   "execution_count": null,
   "id": "5d7a61e8",
   "metadata": {},
   "outputs": [],
   "source": []
  }
 ],
 "metadata": {
  "kernelspec": {
   "display_name": "introia",
   "language": "python",
   "name": "introia"
  },
  "language_info": {
   "codemirror_mode": {
    "name": "ipython",
    "version": 3
   },
   "file_extension": ".py",
   "mimetype": "text/x-python",
   "name": "python",
   "nbconvert_exporter": "python",
   "pygments_lexer": "ipython3",
   "version": "3.9.1"
  }
 },
 "nbformat": 4,
 "nbformat_minor": 5
}
