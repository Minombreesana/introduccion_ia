{
 "cells": [
  {
   "cell_type": "code",
   "execution_count": 31,
   "id": "529f5914",
   "metadata": {},
   "outputs": [],
   "source": [
    "import os\n",
    "import numpy as np\n",
    "import pandas as pd\n",
    "import matplotlib.pyplot as plt\n",
    "\n",
    "from sklearn import metrics\n",
    "from sklearn.cluster import KMeans\n",
    "from sklearn.decomposition import PCA\n",
    "from sklearn.preprocessing import StandardScaler\n",
    "from sklearn.linear_model import SGDClassifier"
   ]
  },
  {
   "cell_type": "code",
   "execution_count": 11,
   "id": "83501d8c",
   "metadata": {},
   "outputs": [],
   "source": [
    "PATH_DATASET_train = \"../data/human_recognition/train\""
   ]
  },
  {
   "cell_type": "code",
   "execution_count": 12,
   "id": "014d1041",
   "metadata": {},
   "outputs": [],
   "source": [
    "X_train = np.loadtxt(os.path.join(PATH_DATASET_train, \"X_train.txt\"))\n",
    "y_train = np.loadtxt(os.path.join(PATH_DATASET_train, \"y_train.txt\")).astype(int)"
   ]
  },
  {
   "cell_type": "code",
   "execution_count": 13,
   "id": "dbb1b690",
   "metadata": {},
   "outputs": [],
   "source": [
    "PATH_DATASET_test = \"../data/human_recognition/test\"\n",
    "X_test = np.loadtxt(os.path.join(PATH_DATASET_test, \"X_test.txt\"))\n",
    "y_test = np.loadtxt(os.path.join(PATH_DATASET_test, \"y_test.txt\")).astype(int)"
   ]
  },
  {
   "cell_type": "code",
   "execution_count": 14,
   "id": "43b3197c",
   "metadata": {},
   "outputs": [
    {
     "name": "stdout",
     "output_type": "stream",
     "text": [
      "Estructura features del dataset: (7352, 561)\n",
      "Estructura de las etiquetas: (7352,)\n"
     ]
    }
   ],
   "source": [
    "print(\"Estructura features del dataset: {}\".format(X_train.shape))\n",
    "print(\"Estructura de las etiquetas: {}\".format(y_train.shape))"
   ]
  },
  {
   "cell_type": "code",
   "execution_count": 15,
   "id": "a3f529d2",
   "metadata": {},
   "outputs": [
    {
     "data": {
      "text/html": [
       "<div>\n",
       "<style scoped>\n",
       "    .dataframe tbody tr th:only-of-type {\n",
       "        vertical-align: middle;\n",
       "    }\n",
       "\n",
       "    .dataframe tbody tr th {\n",
       "        vertical-align: top;\n",
       "    }\n",
       "\n",
       "    .dataframe thead th {\n",
       "        text-align: right;\n",
       "    }\n",
       "</style>\n",
       "<table border=\"1\" class=\"dataframe\">\n",
       "  <thead>\n",
       "    <tr style=\"text-align: right;\">\n",
       "      <th></th>\n",
       "      <th>0</th>\n",
       "      <th>1</th>\n",
       "      <th>2</th>\n",
       "      <th>3</th>\n",
       "      <th>4</th>\n",
       "      <th>5</th>\n",
       "      <th>6</th>\n",
       "      <th>7</th>\n",
       "      <th>8</th>\n",
       "      <th>9</th>\n",
       "      <th>...</th>\n",
       "      <th>551</th>\n",
       "      <th>552</th>\n",
       "      <th>553</th>\n",
       "      <th>554</th>\n",
       "      <th>555</th>\n",
       "      <th>556</th>\n",
       "      <th>557</th>\n",
       "      <th>558</th>\n",
       "      <th>559</th>\n",
       "      <th>560</th>\n",
       "    </tr>\n",
       "  </thead>\n",
       "  <tbody>\n",
       "    <tr>\n",
       "      <th>count</th>\n",
       "      <td>7352.000000</td>\n",
       "      <td>7352.000000</td>\n",
       "      <td>7352.000000</td>\n",
       "      <td>7352.000000</td>\n",
       "      <td>7352.000000</td>\n",
       "      <td>7352.000000</td>\n",
       "      <td>7352.000000</td>\n",
       "      <td>7352.000000</td>\n",
       "      <td>7352.000000</td>\n",
       "      <td>7352.000000</td>\n",
       "      <td>...</td>\n",
       "      <td>7352.000000</td>\n",
       "      <td>7352.000000</td>\n",
       "      <td>7352.000000</td>\n",
       "      <td>7352.000000</td>\n",
       "      <td>7352.000000</td>\n",
       "      <td>7352.000000</td>\n",
       "      <td>7352.000000</td>\n",
       "      <td>7352.000000</td>\n",
       "      <td>7352.000000</td>\n",
       "      <td>7352.000000</td>\n",
       "    </tr>\n",
       "    <tr>\n",
       "      <th>mean</th>\n",
       "      <td>0.274488</td>\n",
       "      <td>-0.017695</td>\n",
       "      <td>-0.109141</td>\n",
       "      <td>-0.605438</td>\n",
       "      <td>-0.510938</td>\n",
       "      <td>-0.604754</td>\n",
       "      <td>-0.630512</td>\n",
       "      <td>-0.526907</td>\n",
       "      <td>-0.606150</td>\n",
       "      <td>-0.468604</td>\n",
       "      <td>...</td>\n",
       "      <td>0.125293</td>\n",
       "      <td>-0.307009</td>\n",
       "      <td>-0.625294</td>\n",
       "      <td>0.008684</td>\n",
       "      <td>0.002186</td>\n",
       "      <td>0.008726</td>\n",
       "      <td>-0.005981</td>\n",
       "      <td>-0.489547</td>\n",
       "      <td>0.058593</td>\n",
       "      <td>-0.056515</td>\n",
       "    </tr>\n",
       "    <tr>\n",
       "      <th>std</th>\n",
       "      <td>0.070261</td>\n",
       "      <td>0.040811</td>\n",
       "      <td>0.056635</td>\n",
       "      <td>0.448734</td>\n",
       "      <td>0.502645</td>\n",
       "      <td>0.418687</td>\n",
       "      <td>0.424073</td>\n",
       "      <td>0.485942</td>\n",
       "      <td>0.414122</td>\n",
       "      <td>0.544547</td>\n",
       "      <td>...</td>\n",
       "      <td>0.250994</td>\n",
       "      <td>0.321011</td>\n",
       "      <td>0.307584</td>\n",
       "      <td>0.336787</td>\n",
       "      <td>0.448306</td>\n",
       "      <td>0.608303</td>\n",
       "      <td>0.477975</td>\n",
       "      <td>0.511807</td>\n",
       "      <td>0.297480</td>\n",
       "      <td>0.279122</td>\n",
       "    </tr>\n",
       "    <tr>\n",
       "      <th>min</th>\n",
       "      <td>-1.000000</td>\n",
       "      <td>-1.000000</td>\n",
       "      <td>-1.000000</td>\n",
       "      <td>-1.000000</td>\n",
       "      <td>-0.999873</td>\n",
       "      <td>-1.000000</td>\n",
       "      <td>-1.000000</td>\n",
       "      <td>-1.000000</td>\n",
       "      <td>-1.000000</td>\n",
       "      <td>-1.000000</td>\n",
       "      <td>...</td>\n",
       "      <td>-1.000000</td>\n",
       "      <td>-0.995357</td>\n",
       "      <td>-0.999765</td>\n",
       "      <td>-0.976580</td>\n",
       "      <td>-1.000000</td>\n",
       "      <td>-1.000000</td>\n",
       "      <td>-1.000000</td>\n",
       "      <td>-1.000000</td>\n",
       "      <td>-1.000000</td>\n",
       "      <td>-1.000000</td>\n",
       "    </tr>\n",
       "    <tr>\n",
       "      <th>25%</th>\n",
       "      <td>0.262975</td>\n",
       "      <td>-0.024863</td>\n",
       "      <td>-0.120993</td>\n",
       "      <td>-0.992754</td>\n",
       "      <td>-0.978129</td>\n",
       "      <td>-0.980233</td>\n",
       "      <td>-0.993591</td>\n",
       "      <td>-0.978162</td>\n",
       "      <td>-0.980251</td>\n",
       "      <td>-0.936219</td>\n",
       "      <td>...</td>\n",
       "      <td>-0.023692</td>\n",
       "      <td>-0.542602</td>\n",
       "      <td>-0.845573</td>\n",
       "      <td>-0.121527</td>\n",
       "      <td>-0.289549</td>\n",
       "      <td>-0.482273</td>\n",
       "      <td>-0.376341</td>\n",
       "      <td>-0.812065</td>\n",
       "      <td>-0.017885</td>\n",
       "      <td>-0.143414</td>\n",
       "    </tr>\n",
       "    <tr>\n",
       "      <th>50%</th>\n",
       "      <td>0.277193</td>\n",
       "      <td>-0.017219</td>\n",
       "      <td>-0.108676</td>\n",
       "      <td>-0.946196</td>\n",
       "      <td>-0.851897</td>\n",
       "      <td>-0.859365</td>\n",
       "      <td>-0.950709</td>\n",
       "      <td>-0.857328</td>\n",
       "      <td>-0.857143</td>\n",
       "      <td>-0.881637</td>\n",
       "      <td>...</td>\n",
       "      <td>0.134000</td>\n",
       "      <td>-0.343685</td>\n",
       "      <td>-0.711692</td>\n",
       "      <td>0.009509</td>\n",
       "      <td>0.008943</td>\n",
       "      <td>0.008735</td>\n",
       "      <td>-0.000368</td>\n",
       "      <td>-0.709417</td>\n",
       "      <td>0.182071</td>\n",
       "      <td>0.003181</td>\n",
       "    </tr>\n",
       "    <tr>\n",
       "      <th>75%</th>\n",
       "      <td>0.288461</td>\n",
       "      <td>-0.010783</td>\n",
       "      <td>-0.097794</td>\n",
       "      <td>-0.242813</td>\n",
       "      <td>-0.034231</td>\n",
       "      <td>-0.262415</td>\n",
       "      <td>-0.292680</td>\n",
       "      <td>-0.066701</td>\n",
       "      <td>-0.265671</td>\n",
       "      <td>-0.017129</td>\n",
       "      <td>...</td>\n",
       "      <td>0.289096</td>\n",
       "      <td>-0.126979</td>\n",
       "      <td>-0.503878</td>\n",
       "      <td>0.150865</td>\n",
       "      <td>0.292861</td>\n",
       "      <td>0.506187</td>\n",
       "      <td>0.359368</td>\n",
       "      <td>-0.509079</td>\n",
       "      <td>0.248353</td>\n",
       "      <td>0.107659</td>\n",
       "    </tr>\n",
       "    <tr>\n",
       "      <th>max</th>\n",
       "      <td>1.000000</td>\n",
       "      <td>1.000000</td>\n",
       "      <td>1.000000</td>\n",
       "      <td>1.000000</td>\n",
       "      <td>0.916238</td>\n",
       "      <td>1.000000</td>\n",
       "      <td>1.000000</td>\n",
       "      <td>0.967664</td>\n",
       "      <td>1.000000</td>\n",
       "      <td>1.000000</td>\n",
       "      <td>...</td>\n",
       "      <td>0.946700</td>\n",
       "      <td>0.989538</td>\n",
       "      <td>0.956845</td>\n",
       "      <td>1.000000</td>\n",
       "      <td>1.000000</td>\n",
       "      <td>0.998702</td>\n",
       "      <td>0.996078</td>\n",
       "      <td>1.000000</td>\n",
       "      <td>0.478157</td>\n",
       "      <td>1.000000</td>\n",
       "    </tr>\n",
       "  </tbody>\n",
       "</table>\n",
       "<p>8 rows × 561 columns</p>\n",
       "</div>"
      ],
      "text/plain": [
       "               0            1            2            3            4    \\\n",
       "count  7352.000000  7352.000000  7352.000000  7352.000000  7352.000000   \n",
       "mean      0.274488    -0.017695    -0.109141    -0.605438    -0.510938   \n",
       "std       0.070261     0.040811     0.056635     0.448734     0.502645   \n",
       "min      -1.000000    -1.000000    -1.000000    -1.000000    -0.999873   \n",
       "25%       0.262975    -0.024863    -0.120993    -0.992754    -0.978129   \n",
       "50%       0.277193    -0.017219    -0.108676    -0.946196    -0.851897   \n",
       "75%       0.288461    -0.010783    -0.097794    -0.242813    -0.034231   \n",
       "max       1.000000     1.000000     1.000000     1.000000     0.916238   \n",
       "\n",
       "               5            6            7            8            9    ...  \\\n",
       "count  7352.000000  7352.000000  7352.000000  7352.000000  7352.000000  ...   \n",
       "mean     -0.604754    -0.630512    -0.526907    -0.606150    -0.468604  ...   \n",
       "std       0.418687     0.424073     0.485942     0.414122     0.544547  ...   \n",
       "min      -1.000000    -1.000000    -1.000000    -1.000000    -1.000000  ...   \n",
       "25%      -0.980233    -0.993591    -0.978162    -0.980251    -0.936219  ...   \n",
       "50%      -0.859365    -0.950709    -0.857328    -0.857143    -0.881637  ...   \n",
       "75%      -0.262415    -0.292680    -0.066701    -0.265671    -0.017129  ...   \n",
       "max       1.000000     1.000000     0.967664     1.000000     1.000000  ...   \n",
       "\n",
       "               551          552          553          554          555  \\\n",
       "count  7352.000000  7352.000000  7352.000000  7352.000000  7352.000000   \n",
       "mean      0.125293    -0.307009    -0.625294     0.008684     0.002186   \n",
       "std       0.250994     0.321011     0.307584     0.336787     0.448306   \n",
       "min      -1.000000    -0.995357    -0.999765    -0.976580    -1.000000   \n",
       "25%      -0.023692    -0.542602    -0.845573    -0.121527    -0.289549   \n",
       "50%       0.134000    -0.343685    -0.711692     0.009509     0.008943   \n",
       "75%       0.289096    -0.126979    -0.503878     0.150865     0.292861   \n",
       "max       0.946700     0.989538     0.956845     1.000000     1.000000   \n",
       "\n",
       "               556          557          558          559          560  \n",
       "count  7352.000000  7352.000000  7352.000000  7352.000000  7352.000000  \n",
       "mean      0.008726    -0.005981    -0.489547     0.058593    -0.056515  \n",
       "std       0.608303     0.477975     0.511807     0.297480     0.279122  \n",
       "min      -1.000000    -1.000000    -1.000000    -1.000000    -1.000000  \n",
       "25%      -0.482273    -0.376341    -0.812065    -0.017885    -0.143414  \n",
       "50%       0.008735    -0.000368    -0.709417     0.182071     0.003181  \n",
       "75%       0.506187     0.359368    -0.509079     0.248353     0.107659  \n",
       "max       0.998702     0.996078     1.000000     0.478157     1.000000  \n",
       "\n",
       "[8 rows x 561 columns]"
      ]
     },
     "execution_count": 15,
     "metadata": {},
     "output_type": "execute_result"
    }
   ],
   "source": [
    "df = pd.DataFrame(data=X_train)\n",
    "df.describe()"
   ]
  },
  {
   "cell_type": "markdown",
   "id": "22c71224",
   "metadata": {},
   "source": [
    "### PCA"
   ]
  },
  {
   "cell_type": "code",
   "execution_count": 16,
   "id": "ea3d0014",
   "metadata": {},
   "outputs": [],
   "source": [
    "scaler = StandardScaler()\n",
    "X_scaled = scaler.fit_transform(X_train)"
   ]
  },
  {
   "cell_type": "code",
   "execution_count": 20,
   "id": "51238ed3",
   "metadata": {},
   "outputs": [],
   "source": [
    "pca = PCA(n_components=0.9, random_state=1).fit(X_scaled)\n",
    "X_pca = pca.transform(X_scaled)"
   ]
  },
  {
   "cell_type": "code",
   "execution_count": 21,
   "id": "ecfcb983",
   "metadata": {},
   "outputs": [
    {
     "data": {
      "text/plain": [
       "63"
      ]
     },
     "execution_count": 21,
     "metadata": {},
     "output_type": "execute_result"
    }
   ],
   "source": [
    "X_pca.shape[1]"
   ]
  },
  {
   "cell_type": "markdown",
   "id": "4d9c16f4",
   "metadata": {},
   "source": [
    "### Clasificación"
   ]
  },
  {
   "cell_type": "code",
   "execution_count": 22,
   "id": "c0bc6f9c",
   "metadata": {},
   "outputs": [
    {
     "data": {
      "text/plain": [
       "array([1, 2, 3, 4, 5, 6])"
      ]
     },
     "execution_count": 22,
     "metadata": {},
     "output_type": "execute_result"
    }
   ],
   "source": [
    "clases = np.unique(y_train)\n",
    "clases"
   ]
  },
  {
   "cell_type": "code",
   "execution_count": 24,
   "id": "3e2f3ab5",
   "metadata": {},
   "outputs": [],
   "source": [
    "act_mask = y_train <= 3\n",
    "st_mask = y_train > 3"
   ]
  },
  {
   "cell_type": "code",
   "execution_count": 25,
   "id": "7a12370e",
   "metadata": {},
   "outputs": [],
   "source": [
    "y_class_train = y_train.copy()\n",
    "\n",
    "y_class_train[act_mask] = 0\n",
    "y_class_train[st_mask] = 1"
   ]
  },
  {
   "cell_type": "code",
   "execution_count": 26,
   "id": "21611e30",
   "metadata": {},
   "outputs": [],
   "source": [
    "x_class_train = X_pca[:, :2]"
   ]
  },
  {
   "cell_type": "code",
   "execution_count": 28,
   "id": "2f06c454",
   "metadata": {
    "scrolled": true
   },
   "outputs": [
    {
     "name": "stdout",
     "output_type": "stream",
     "text": [
      "(7352,)\n",
      "(7352, 2)\n"
     ]
    }
   ],
   "source": [
    "print(y_class_train.shape)\n",
    "print(x_class_train.shape)"
   ]
  },
  {
   "cell_type": "code",
   "execution_count": 71,
   "id": "771a3e13",
   "metadata": {
    "scrolled": false
   },
   "outputs": [
    {
     "name": "stdout",
     "output_type": "stream",
     "text": [
      "-- Epoch 1\n",
      "Norm: 46.37, NNZs: 2, Bias: -18.576602, T: 7352, Avg. loss: 1.207458\n",
      "Total training time: 0.00 seconds.\n",
      "-- Epoch 2\n",
      "Norm: 26.63, NNZs: 2, Bias: -19.951813, T: 14704, Avg. loss: 0.391547\n",
      "Total training time: 0.00 seconds.\n",
      "-- Epoch 3\n",
      "Norm: 15.70, NNZs: 2, Bias: -20.995285, T: 22056, Avg. loss: 0.250919\n",
      "Total training time: 0.00 seconds.\n",
      "-- Epoch 4\n",
      "Norm: 12.47, NNZs: 2, Bias: -21.340830, T: 29408, Avg. loss: 0.162521\n",
      "Total training time: 0.00 seconds.\n",
      "-- Epoch 5\n",
      "Norm: 8.84, NNZs: 2, Bias: -22.253362, T: 36760, Avg. loss: 0.126360\n",
      "Total training time: 0.01 seconds.\n",
      "-- Epoch 6\n",
      "Norm: 6.38, NNZs: 2, Bias: -22.007943, T: 44112, Avg. loss: 0.092598\n",
      "Total training time: 0.01 seconds.\n",
      "-- Epoch 7\n",
      "Norm: 7.11, NNZs: 2, Bias: -20.587768, T: 51464, Avg. loss: 0.073050\n",
      "Total training time: 0.01 seconds.\n",
      "-- Epoch 8\n",
      "Norm: 6.04, NNZs: 2, Bias: -20.228572, T: 58816, Avg. loss: 0.077061\n",
      "Total training time: 0.01 seconds.\n",
      "-- Epoch 9\n",
      "Norm: 4.73, NNZs: 2, Bias: -19.597550, T: 66168, Avg. loss: 0.063034\n",
      "Total training time: 0.01 seconds.\n",
      "-- Epoch 10\n",
      "Norm: 4.55, NNZs: 2, Bias: -19.240637, T: 73520, Avg. loss: 0.055562\n",
      "Total training time: 0.01 seconds.\n",
      "-- Epoch 11\n",
      "Norm: 3.75, NNZs: 2, Bias: -18.606902, T: 80872, Avg. loss: 0.056685\n",
      "Total training time: 0.01 seconds.\n",
      "-- Epoch 12\n",
      "Norm: 3.85, NNZs: 2, Bias: -17.858431, T: 88224, Avg. loss: 0.047295\n",
      "Total training time: 0.01 seconds.\n",
      "-- Epoch 13\n",
      "Norm: 4.08, NNZs: 2, Bias: -17.045313, T: 95576, Avg. loss: 0.046355\n",
      "Total training time: 0.01 seconds.\n",
      "-- Epoch 14\n",
      "Norm: 3.19, NNZs: 2, Bias: -16.608589, T: 102928, Avg. loss: 0.045722\n",
      "Total training time: 0.01 seconds.\n",
      "-- Epoch 15\n",
      "Norm: 3.67, NNZs: 2, Bias: -15.999419, T: 110280, Avg. loss: 0.033487\n",
      "Total training time: 0.01 seconds.\n",
      "-- Epoch 16\n",
      "Norm: 4.01, NNZs: 2, Bias: -15.503408, T: 117632, Avg. loss: 0.038946\n",
      "Total training time: 0.01 seconds.\n",
      "-- Epoch 17\n",
      "Norm: 3.90, NNZs: 2, Bias: -14.960810, T: 124984, Avg. loss: 0.037776\n",
      "Total training time: 0.01 seconds.\n",
      "-- Epoch 18\n",
      "Norm: 3.22, NNZs: 2, Bias: -14.582071, T: 132336, Avg. loss: 0.037576\n",
      "Total training time: 0.01 seconds.\n",
      "-- Epoch 19\n",
      "Norm: 3.55, NNZs: 2, Bias: -14.010632, T: 139688, Avg. loss: 0.035019\n",
      "Total training time: 0.01 seconds.\n",
      "-- Epoch 20\n",
      "Norm: 2.53, NNZs: 2, Bias: -13.730314, T: 147040, Avg. loss: 0.030493\n",
      "Total training time: 0.01 seconds.\n",
      "-- Epoch 21\n",
      "Norm: 3.25, NNZs: 2, Bias: -13.111623, T: 154392, Avg. loss: 0.032055\n",
      "Total training time: 0.02 seconds.\n",
      "-- Epoch 22\n",
      "Norm: 2.83, NNZs: 2, Bias: -12.776913, T: 161744, Avg. loss: 0.029593\n",
      "Total training time: 0.02 seconds.\n",
      "-- Epoch 23\n",
      "Norm: 2.36, NNZs: 2, Bias: -12.381837, T: 169096, Avg. loss: 0.028062\n",
      "Total training time: 0.02 seconds.\n",
      "-- Epoch 24\n",
      "Norm: 2.10, NNZs: 2, Bias: -12.023083, T: 176448, Avg. loss: 0.028379\n",
      "Total training time: 0.02 seconds.\n",
      "-- Epoch 25\n",
      "Norm: 3.00, NNZs: 2, Bias: -11.495197, T: 183800, Avg. loss: 0.022692\n",
      "Total training time: 0.02 seconds.\n",
      "-- Epoch 26\n",
      "Norm: 2.41, NNZs: 2, Bias: -11.222706, T: 191152, Avg. loss: 0.026650\n",
      "Total training time: 0.02 seconds.\n",
      "-- Epoch 27\n",
      "Norm: 2.74, NNZs: 2, Bias: -10.876782, T: 198504, Avg. loss: 0.022975\n",
      "Total training time: 0.02 seconds.\n",
      "-- Epoch 28\n",
      "Norm: 2.51, NNZs: 2, Bias: -10.563786, T: 205856, Avg. loss: 0.023187\n",
      "Total training time: 0.02 seconds.\n",
      "-- Epoch 29\n",
      "Norm: 2.41, NNZs: 2, Bias: -10.303719, T: 213208, Avg. loss: 0.023971\n",
      "Total training time: 0.02 seconds.\n",
      "-- Epoch 30\n",
      "Norm: 1.91, NNZs: 2, Bias: -10.018304, T: 220560, Avg. loss: 0.026517\n",
      "Total training time: 0.02 seconds.\n",
      "Convergence after 30 epochs took 0.02 seconds\n"
     ]
    },
    {
     "data": {
      "text/plain": [
       "SGDClassifier(l1_ratio=0.01, loss='log', max_iter=10000, verbose=1)"
      ]
     },
     "execution_count": 71,
     "metadata": {},
     "output_type": "execute_result"
    }
   ],
   "source": [
    "lr = SGDClassifier(loss = 'log', l1_ratio=0.01, verbose=1, max_iter=10000, penalty=\"l2\")\n",
    "lr.fit(x_class_train, y_class_train)"
   ]
  },
  {
   "cell_type": "code",
   "execution_count": 72,
   "id": "7e71ae23",
   "metadata": {},
   "outputs": [
    {
     "name": "stdout",
     "output_type": "stream",
     "text": [
      "[-10.01830381]\n"
     ]
    }
   ],
   "source": [
    "intercept = lr.intercept_\n",
    "print(intercept)"
   ]
  },
  {
   "cell_type": "code",
   "execution_count": 80,
   "id": "cca19315",
   "metadata": {},
   "outputs": [
    {
     "name": "stdout",
     "output_type": "stream",
     "text": [
      "[[-1.54458216]\n",
      " [-1.11556909]]\n"
     ]
    }
   ],
   "source": [
    "slope = lr.coef_.T\n",
    "print(slope)"
   ]
  },
  {
   "cell_type": "code",
   "execution_count": null,
   "id": "9a58930f",
   "metadata": {},
   "outputs": [],
   "source": []
  },
  {
   "cell_type": "code",
   "execution_count": 79,
   "id": "91fbe752",
   "metadata": {},
   "outputs": [
    {
     "ename": "NameError",
     "evalue": "name 'logistic_regression' is not defined",
     "output_type": "error",
     "traceback": [
      "\u001b[1;31m---------------------------------------------------------------------------\u001b[0m",
      "\u001b[1;31mNameError\u001b[0m                                 Traceback (most recent call last)",
      "Input \u001b[1;32mIn [79]\u001b[0m, in \u001b[0;36m<cell line: 1>\u001b[1;34m()\u001b[0m\n\u001b[1;32m----> 1\u001b[0m slope \u001b[38;5;241m=\u001b[39m \u001b[38;5;241m-\u001b[39m(slope[\u001b[38;5;241m1\u001b[39m] \u001b[38;5;241m/\u001b[39m \u001b[43mlogistic_regression\u001b[49m\u001b[38;5;241m.\u001b[39mmodel[\u001b[38;5;241m2\u001b[39m])\n\u001b[0;32m      2\u001b[0m intercept \u001b[38;5;241m=\u001b[39m \u001b[38;5;241m-\u001b[39m(logistic_regression\u001b[38;5;241m.\u001b[39mmodel[\u001b[38;5;241m0\u001b[39m] \u001b[38;5;241m/\u001b[39m logistic_regression\u001b[38;5;241m.\u001b[39mmodel[\u001b[38;5;241m2\u001b[39m])\n",
      "\u001b[1;31mNameError\u001b[0m: name 'logistic_regression' is not defined"
     ]
    }
   ],
   "source": [
    "slope = -(slope[1] / logistic_regression.model[2])\n",
    "intercept = -(logistic_regression.model[0] / logistic_regression.model[2])"
   ]
  },
  {
   "cell_type": "code",
   "execution_count": 76,
   "id": "a6694f7e",
   "metadata": {},
   "outputs": [
    {
     "data": {
      "image/png": "[encoded data removed]",
      "text/plain": [
       "<Figure size 864x720 with 1 Axes>"
      ]
     },
     "metadata": {
      "needs_background": "light"
     },
     "output_type": "display_data"
    }
   ],
   "source": [
    "plt.figure(figsize=(12,10))\n",
    "plt.scatter(x_class_train[:, 0], x_class_train[:, 1], c=y_class_train[:])\n",
    "y_vals = intercept + (slope * x_class_train[:, 0])\n",
    "plt.plot(x_class_train[:, 0], y_vals, c=\"k\")\n",
    "plt.title('Decision Boundary')\n",
    "plt.ylim((-30, 60))\n",
    "plt.show()"
   ]
  },
  {
   "cell_type": "code",
   "execution_count": null,
   "id": "24b32272",
   "metadata": {},
   "outputs": [],
   "source": []
  }
 ],
 "metadata": {
  "kernelspec": {
   "display_name": "introia",
   "language": "python",
   "name": "introia"
  },
  "language_info": {
   "codemirror_mode": {
    "name": "ipython",
    "version": 3
   },
   "file_extension": ".py",
   "mimetype": "text/x-python",
   "name": "python",
   "nbconvert_exporter": "python",
   "pygments_lexer": "ipython3",
   "version": "3.9.1"
  }
 },
 "nbformat": 4,
 "nbformat_minor": 5
}
