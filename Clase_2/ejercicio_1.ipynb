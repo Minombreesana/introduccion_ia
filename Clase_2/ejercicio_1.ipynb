{
 "cells": [
  {
   "cell_type": "code",
   "execution_count": 1,
   "id": "edff3ee4",
   "metadata": {},
   "outputs": [],
   "source": [
    "import numpy as np\n",
    "\n",
    "from sklearn.decomposition import PCA\n",
    "from sklearn.preprocessing import StandardScaler\n",
    "\n",
    "from scipy import linalg as LA"
   ]
  },
  {
   "cell_type": "code",
   "execution_count": 8,
   "id": "76e3bd4a",
   "metadata": {},
   "outputs": [],
   "source": [
    "class P_C_A:\n",
    "    \n",
    "    def __init__(self, array):\n",
    "        self.array = array\n",
    "        \n",
    "    def pca(self):\n",
    "        x_cent = self.array - np.mean(self.array, axis = 0)\n",
    "        z = x_cent / x_cent.std(axis = 0)\n",
    "        mat_var =  np.cov(z, rowvar = False)\n",
    "        eigenvalues, eigenvectors = np.linalg.eig(mat_var)\n",
    "        idx = np.argsort(eigenvalues)[1]\n",
    "        eigenvecs = eigenvectors[:, idx]\n",
    "        eigenvals = eigenvalues[idx]\n",
    "        z_new = np.dot(z, eigenvecs)\n",
    "        z_new = z_new.reshape(2,1)\n",
    "        return z_new\n",
    "        "
   ]
  },
  {
   "cell_type": "code",
   "execution_count": 9,
   "id": "0ca15ba2",
   "metadata": {},
   "outputs": [
    {
     "name": "stdout",
     "output_type": "stream",
     "text": [
      "el espacio transformado es: \n",
      " [[ 1.41421356]\n",
      " [-1.41421356]]\n"
     ]
    }
   ],
   "source": [
    "x = P_C_A(np.array([[0.8, 0.7], [0.1, -0.1]]))\n",
    "print(\"el espacio transformado es: \\n\",   x.pca())\n",
    "x_numpy = x.pca()"
   ]
  },
  {
   "cell_type": "markdown",
   "id": "58be6e2e",
   "metadata": {},
   "source": [
    "## prueba sklearn"
   ]
  },
  {
   "cell_type": "code",
   "execution_count": 271,
   "id": "dc46e140",
   "metadata": {},
   "outputs": [],
   "source": [
    "x = np.array([[0.8, 0.7], [0.1, -0.1]])\n",
    "\n",
    "scaler = StandardScaler()\n",
    "x_scaled = scaler.fit_transform(x)"
   ]
  },
  {
   "cell_type": "code",
   "execution_count": 272,
   "id": "de9285e4",
   "metadata": {},
   "outputs": [],
   "source": [
    "pca = PCA(n_components=1, random_state=1).fit(x_scaled)\n",
    "x_sklearn = pca.transform(x_scaled)"
   ]
  },
  {
   "cell_type": "code",
   "execution_count": 273,
   "id": "0c867724",
   "metadata": {},
   "outputs": [
    {
     "data": {
      "text/plain": [
       "array([[-1.41421356],\n",
       "       [ 1.41421356]])"
      ]
     },
     "execution_count": 273,
     "metadata": {},
     "output_type": "execute_result"
    }
   ],
   "source": [
    "x_sklearn"
   ]
  },
  {
   "cell_type": "markdown",
   "id": "bd6bf858",
   "metadata": {},
   "source": [
    "## Test"
   ]
  },
  {
   "cell_type": "code",
   "execution_count": 274,
   "id": "b07f54c8",
   "metadata": {},
   "outputs": [],
   "source": [
    "np.testing.assert_allclose(x_numpy, x_sklearn)"
   ]
  },
  {
   "cell_type": "code",
   "execution_count": null,
   "id": "aa1a7827",
   "metadata": {},
   "outputs": [],
   "source": []
  }
 ],
 "metadata": {
  "kernelspec": {
   "display_name": "introia",
   "language": "python",
   "name": "introia"
  },
  "language_info": {
   "codemirror_mode": {
    "name": "ipython",
    "version": 3
   },
   "file_extension": ".py",
   "mimetype": "text/x-python",
   "name": "python",
   "nbconvert_exporter": "python",
   "pygments_lexer": "ipython3",
   "version": "3.9.1"
  }
 },
 "nbformat": 4,
 "nbformat_minor": 5
}
