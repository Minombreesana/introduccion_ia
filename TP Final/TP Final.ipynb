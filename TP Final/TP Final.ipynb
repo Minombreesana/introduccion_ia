{
 "cells": [
  {
   "cell_type": "markdown",
   "id": "a74b69bd",
   "metadata": {},
   "source": [
    "# TP FINAL\n",
    "\n",
    "ANA GUZMÁN\n",
    "\n",
    "En esta notebook se hará un pequeño análisis de datos para poder convertir variables categóricas en numéricas, y se aplicaran dos modelos de regresión y dos de clasificación."
   ]
  },
  {
   "cell_type": "markdown",
   "id": "99d46627",
   "metadata": {},
   "source": [
    "## Importamos liberias"
   ]
  },
  {
   "cell_type": "code",
   "execution_count": 232,
   "id": "cde5ee3c",
   "metadata": {},
   "outputs": [],
   "source": [
    "import numpy as np\n",
    "import pandas as pd\n",
    "import matplotlib.pyplot as plt\n",
    "import seaborn as sns\n",
    "\n",
    "from sklearn.model_selection import train_test_split\n",
    "from sklearn.decomposition import PCA\n",
    "from sklearn.preprocessing import StandardScaler\n",
    "\n",
    "from sklearn.linear_model import Ridge\n",
    "from sklearn import linear_model\n",
    "from sklearn.linear_model import SGDClassifier\n",
    "from metrics import MSE\n",
    "from sklearn.metrics import precision_score\n",
    "from sklearn.cluster import KMeans"
   ]
  },
  {
   "cell_type": "markdown",
   "id": "003abb4a",
   "metadata": {},
   "source": [
    "## Cargamos los datos"
   ]
  },
  {
   "cell_type": "code",
   "execution_count": 2,
   "id": "e74cfa51",
   "metadata": {},
   "outputs": [],
   "source": [
    "data = pd.read_csv(\"./Data/possum.csv\")"
   ]
  },
  {
   "cell_type": "code",
   "execution_count": 3,
   "id": "1c9ba889",
   "metadata": {},
   "outputs": [
    {
     "data": {
      "text/html": [
       "<div>\n",
       "<style scoped>\n",
       "    .dataframe tbody tr th:only-of-type {\n",
       "        vertical-align: middle;\n",
       "    }\n",
       "\n",
       "    .dataframe tbody tr th {\n",
       "        vertical-align: top;\n",
       "    }\n",
       "\n",
       "    .dataframe thead th {\n",
       "        text-align: right;\n",
       "    }\n",
       "</style>\n",
       "<table border=\"1\" class=\"dataframe\">\n",
       "  <thead>\n",
       "    <tr style=\"text-align: right;\">\n",
       "      <th></th>\n",
       "      <th>case</th>\n",
       "      <th>site</th>\n",
       "      <th>Pop</th>\n",
       "      <th>sex</th>\n",
       "      <th>age</th>\n",
       "      <th>hdlngth</th>\n",
       "      <th>skullw</th>\n",
       "      <th>totlngth</th>\n",
       "      <th>taill</th>\n",
       "      <th>footlgth</th>\n",
       "      <th>earconch</th>\n",
       "      <th>eye</th>\n",
       "      <th>chest</th>\n",
       "      <th>belly</th>\n",
       "    </tr>\n",
       "  </thead>\n",
       "  <tbody>\n",
       "    <tr>\n",
       "      <th>0</th>\n",
       "      <td>1</td>\n",
       "      <td>1</td>\n",
       "      <td>Vic</td>\n",
       "      <td>m</td>\n",
       "      <td>8.0</td>\n",
       "      <td>94.1</td>\n",
       "      <td>60.4</td>\n",
       "      <td>89.0</td>\n",
       "      <td>36.0</td>\n",
       "      <td>74.5</td>\n",
       "      <td>54.5</td>\n",
       "      <td>15.2</td>\n",
       "      <td>28.0</td>\n",
       "      <td>36.0</td>\n",
       "    </tr>\n",
       "    <tr>\n",
       "      <th>1</th>\n",
       "      <td>2</td>\n",
       "      <td>1</td>\n",
       "      <td>Vic</td>\n",
       "      <td>f</td>\n",
       "      <td>6.0</td>\n",
       "      <td>92.5</td>\n",
       "      <td>57.6</td>\n",
       "      <td>91.5</td>\n",
       "      <td>36.5</td>\n",
       "      <td>72.5</td>\n",
       "      <td>51.2</td>\n",
       "      <td>16.0</td>\n",
       "      <td>28.5</td>\n",
       "      <td>33.0</td>\n",
       "    </tr>\n",
       "    <tr>\n",
       "      <th>2</th>\n",
       "      <td>3</td>\n",
       "      <td>1</td>\n",
       "      <td>Vic</td>\n",
       "      <td>f</td>\n",
       "      <td>6.0</td>\n",
       "      <td>94.0</td>\n",
       "      <td>60.0</td>\n",
       "      <td>95.5</td>\n",
       "      <td>39.0</td>\n",
       "      <td>75.4</td>\n",
       "      <td>51.9</td>\n",
       "      <td>15.5</td>\n",
       "      <td>30.0</td>\n",
       "      <td>34.0</td>\n",
       "    </tr>\n",
       "    <tr>\n",
       "      <th>3</th>\n",
       "      <td>4</td>\n",
       "      <td>1</td>\n",
       "      <td>Vic</td>\n",
       "      <td>f</td>\n",
       "      <td>6.0</td>\n",
       "      <td>93.2</td>\n",
       "      <td>57.1</td>\n",
       "      <td>92.0</td>\n",
       "      <td>38.0</td>\n",
       "      <td>76.1</td>\n",
       "      <td>52.2</td>\n",
       "      <td>15.2</td>\n",
       "      <td>28.0</td>\n",
       "      <td>34.0</td>\n",
       "    </tr>\n",
       "    <tr>\n",
       "      <th>4</th>\n",
       "      <td>5</td>\n",
       "      <td>1</td>\n",
       "      <td>Vic</td>\n",
       "      <td>f</td>\n",
       "      <td>2.0</td>\n",
       "      <td>91.5</td>\n",
       "      <td>56.3</td>\n",
       "      <td>85.5</td>\n",
       "      <td>36.0</td>\n",
       "      <td>71.0</td>\n",
       "      <td>53.2</td>\n",
       "      <td>15.1</td>\n",
       "      <td>28.5</td>\n",
       "      <td>33.0</td>\n",
       "    </tr>\n",
       "  </tbody>\n",
       "</table>\n",
       "</div>"
      ],
      "text/plain": [
       "   case  site  Pop sex  age  hdlngth  skullw  totlngth  taill  footlgth  \\\n",
       "0     1     1  Vic   m  8.0     94.1    60.4      89.0   36.0      74.5   \n",
       "1     2     1  Vic   f  6.0     92.5    57.6      91.5   36.5      72.5   \n",
       "2     3     1  Vic   f  6.0     94.0    60.0      95.5   39.0      75.4   \n",
       "3     4     1  Vic   f  6.0     93.2    57.1      92.0   38.0      76.1   \n",
       "4     5     1  Vic   f  2.0     91.5    56.3      85.5   36.0      71.0   \n",
       "\n",
       "   earconch   eye  chest  belly  \n",
       "0      54.5  15.2   28.0   36.0  \n",
       "1      51.2  16.0   28.5   33.0  \n",
       "2      51.9  15.5   30.0   34.0  \n",
       "3      52.2  15.2   28.0   34.0  \n",
       "4      53.2  15.1   28.5   33.0  "
      ]
     },
     "execution_count": 3,
     "metadata": {},
     "output_type": "execute_result"
    }
   ],
   "source": [
    "data.head()"
   ]
  },
  {
   "cell_type": "code",
   "execution_count": 4,
   "id": "16090b0e",
   "metadata": {},
   "outputs": [
    {
     "data": {
      "text/plain": [
       "(104, 14)"
      ]
     },
     "execution_count": 4,
     "metadata": {},
     "output_type": "execute_result"
    }
   ],
   "source": [
    "data.shape"
   ]
  },
  {
   "cell_type": "code",
   "execution_count": 5,
   "id": "30531097",
   "metadata": {},
   "outputs": [
    {
     "name": "stdout",
     "output_type": "stream",
     "text": [
      "<class 'pandas.core.frame.DataFrame'>\n",
      "RangeIndex: 104 entries, 0 to 103\n",
      "Data columns (total 14 columns):\n",
      " #   Column    Non-Null Count  Dtype  \n",
      "---  ------    --------------  -----  \n",
      " 0   case      104 non-null    int64  \n",
      " 1   site      104 non-null    int64  \n",
      " 2   Pop       104 non-null    object \n",
      " 3   sex       104 non-null    object \n",
      " 4   age       102 non-null    float64\n",
      " 5   hdlngth   104 non-null    float64\n",
      " 6   skullw    104 non-null    float64\n",
      " 7   totlngth  104 non-null    float64\n",
      " 8   taill     104 non-null    float64\n",
      " 9   footlgth  103 non-null    float64\n",
      " 10  earconch  104 non-null    float64\n",
      " 11  eye       104 non-null    float64\n",
      " 12  chest     104 non-null    float64\n",
      " 13  belly     104 non-null    float64\n",
      "dtypes: float64(10), int64(2), object(2)\n",
      "memory usage: 11.5+ KB\n"
     ]
    }
   ],
   "source": [
    "data.info()"
   ]
  },
  {
   "cell_type": "code",
   "execution_count": 6,
   "id": "f58c2fbe",
   "metadata": {},
   "outputs": [
    {
     "data": {
      "text/html": [
       "<div>\n",
       "<style scoped>\n",
       "    .dataframe tbody tr th:only-of-type {\n",
       "        vertical-align: middle;\n",
       "    }\n",
       "\n",
       "    .dataframe tbody tr th {\n",
       "        vertical-align: top;\n",
       "    }\n",
       "\n",
       "    .dataframe thead th {\n",
       "        text-align: right;\n",
       "    }\n",
       "</style>\n",
       "<table border=\"1\" class=\"dataframe\">\n",
       "  <thead>\n",
       "    <tr style=\"text-align: right;\">\n",
       "      <th></th>\n",
       "      <th>case</th>\n",
       "      <th>site</th>\n",
       "      <th>age</th>\n",
       "      <th>hdlngth</th>\n",
       "      <th>skullw</th>\n",
       "      <th>totlngth</th>\n",
       "      <th>taill</th>\n",
       "      <th>footlgth</th>\n",
       "      <th>earconch</th>\n",
       "      <th>eye</th>\n",
       "      <th>chest</th>\n",
       "      <th>belly</th>\n",
       "    </tr>\n",
       "  </thead>\n",
       "  <tbody>\n",
       "    <tr>\n",
       "      <th>count</th>\n",
       "      <td>104.000000</td>\n",
       "      <td>104.000000</td>\n",
       "      <td>102.000000</td>\n",
       "      <td>104.000000</td>\n",
       "      <td>104.000000</td>\n",
       "      <td>104.000000</td>\n",
       "      <td>104.000000</td>\n",
       "      <td>103.000000</td>\n",
       "      <td>104.000000</td>\n",
       "      <td>104.000000</td>\n",
       "      <td>104.000000</td>\n",
       "      <td>104.000000</td>\n",
       "    </tr>\n",
       "    <tr>\n",
       "      <th>mean</th>\n",
       "      <td>52.500000</td>\n",
       "      <td>3.625000</td>\n",
       "      <td>3.833333</td>\n",
       "      <td>92.602885</td>\n",
       "      <td>56.883654</td>\n",
       "      <td>87.088462</td>\n",
       "      <td>37.009615</td>\n",
       "      <td>68.459223</td>\n",
       "      <td>48.130769</td>\n",
       "      <td>15.046154</td>\n",
       "      <td>27.000000</td>\n",
       "      <td>32.586538</td>\n",
       "    </tr>\n",
       "    <tr>\n",
       "      <th>std</th>\n",
       "      <td>30.166206</td>\n",
       "      <td>2.349086</td>\n",
       "      <td>1.909244</td>\n",
       "      <td>3.573349</td>\n",
       "      <td>3.113426</td>\n",
       "      <td>4.310549</td>\n",
       "      <td>1.959518</td>\n",
       "      <td>4.395306</td>\n",
       "      <td>4.109380</td>\n",
       "      <td>1.050374</td>\n",
       "      <td>2.045597</td>\n",
       "      <td>2.761949</td>\n",
       "    </tr>\n",
       "    <tr>\n",
       "      <th>min</th>\n",
       "      <td>1.000000</td>\n",
       "      <td>1.000000</td>\n",
       "      <td>1.000000</td>\n",
       "      <td>82.500000</td>\n",
       "      <td>50.000000</td>\n",
       "      <td>75.000000</td>\n",
       "      <td>32.000000</td>\n",
       "      <td>60.300000</td>\n",
       "      <td>40.300000</td>\n",
       "      <td>12.800000</td>\n",
       "      <td>22.000000</td>\n",
       "      <td>25.000000</td>\n",
       "    </tr>\n",
       "    <tr>\n",
       "      <th>25%</th>\n",
       "      <td>26.750000</td>\n",
       "      <td>1.000000</td>\n",
       "      <td>2.250000</td>\n",
       "      <td>90.675000</td>\n",
       "      <td>54.975000</td>\n",
       "      <td>84.000000</td>\n",
       "      <td>35.875000</td>\n",
       "      <td>64.600000</td>\n",
       "      <td>44.800000</td>\n",
       "      <td>14.400000</td>\n",
       "      <td>25.500000</td>\n",
       "      <td>31.000000</td>\n",
       "    </tr>\n",
       "    <tr>\n",
       "      <th>50%</th>\n",
       "      <td>52.500000</td>\n",
       "      <td>3.000000</td>\n",
       "      <td>3.000000</td>\n",
       "      <td>92.800000</td>\n",
       "      <td>56.350000</td>\n",
       "      <td>88.000000</td>\n",
       "      <td>37.000000</td>\n",
       "      <td>68.000000</td>\n",
       "      <td>46.800000</td>\n",
       "      <td>14.900000</td>\n",
       "      <td>27.000000</td>\n",
       "      <td>32.500000</td>\n",
       "    </tr>\n",
       "    <tr>\n",
       "      <th>75%</th>\n",
       "      <td>78.250000</td>\n",
       "      <td>6.000000</td>\n",
       "      <td>5.000000</td>\n",
       "      <td>94.725000</td>\n",
       "      <td>58.100000</td>\n",
       "      <td>90.000000</td>\n",
       "      <td>38.000000</td>\n",
       "      <td>72.500000</td>\n",
       "      <td>52.000000</td>\n",
       "      <td>15.725000</td>\n",
       "      <td>28.000000</td>\n",
       "      <td>34.125000</td>\n",
       "    </tr>\n",
       "    <tr>\n",
       "      <th>max</th>\n",
       "      <td>104.000000</td>\n",
       "      <td>7.000000</td>\n",
       "      <td>9.000000</td>\n",
       "      <td>103.100000</td>\n",
       "      <td>68.600000</td>\n",
       "      <td>96.500000</td>\n",
       "      <td>43.000000</td>\n",
       "      <td>77.900000</td>\n",
       "      <td>56.200000</td>\n",
       "      <td>17.800000</td>\n",
       "      <td>32.000000</td>\n",
       "      <td>40.000000</td>\n",
       "    </tr>\n",
       "  </tbody>\n",
       "</table>\n",
       "</div>"
      ],
      "text/plain": [
       "             case        site         age     hdlngth      skullw    totlngth  \\\n",
       "count  104.000000  104.000000  102.000000  104.000000  104.000000  104.000000   \n",
       "mean    52.500000    3.625000    3.833333   92.602885   56.883654   87.088462   \n",
       "std     30.166206    2.349086    1.909244    3.573349    3.113426    4.310549   \n",
       "min      1.000000    1.000000    1.000000   82.500000   50.000000   75.000000   \n",
       "25%     26.750000    1.000000    2.250000   90.675000   54.975000   84.000000   \n",
       "50%     52.500000    3.000000    3.000000   92.800000   56.350000   88.000000   \n",
       "75%     78.250000    6.000000    5.000000   94.725000   58.100000   90.000000   \n",
       "max    104.000000    7.000000    9.000000  103.100000   68.600000   96.500000   \n",
       "\n",
       "            taill    footlgth    earconch         eye       chest       belly  \n",
       "count  104.000000  103.000000  104.000000  104.000000  104.000000  104.000000  \n",
       "mean    37.009615   68.459223   48.130769   15.046154   27.000000   32.586538  \n",
       "std      1.959518    4.395306    4.109380    1.050374    2.045597    2.761949  \n",
       "min     32.000000   60.300000   40.300000   12.800000   22.000000   25.000000  \n",
       "25%     35.875000   64.600000   44.800000   14.400000   25.500000   31.000000  \n",
       "50%     37.000000   68.000000   46.800000   14.900000   27.000000   32.500000  \n",
       "75%     38.000000   72.500000   52.000000   15.725000   28.000000   34.125000  \n",
       "max     43.000000   77.900000   56.200000   17.800000   32.000000   40.000000  "
      ]
     },
     "execution_count": 6,
     "metadata": {},
     "output_type": "execute_result"
    }
   ],
   "source": [
    "data.describe()"
   ]
  },
  {
   "cell_type": "code",
   "execution_count": 7,
   "id": "a9b23f51",
   "metadata": {},
   "outputs": [
    {
     "data": {
      "text/plain": [
       "case        0\n",
       "site        0\n",
       "Pop         0\n",
       "sex         0\n",
       "age         2\n",
       "hdlngth     0\n",
       "skullw      0\n",
       "totlngth    0\n",
       "taill       0\n",
       "footlgth    1\n",
       "earconch    0\n",
       "eye         0\n",
       "chest       0\n",
       "belly       0\n",
       "dtype: int64"
      ]
     },
     "execution_count": 7,
     "metadata": {},
     "output_type": "execute_result"
    }
   ],
   "source": [
    "data.isnull().sum()"
   ]
  },
  {
   "cell_type": "markdown",
   "id": "3052bbca",
   "metadata": {},
   "source": [
    "## Codificación y análisis de correlación"
   ]
  },
  {
   "cell_type": "code",
   "execution_count": 8,
   "id": "9793254e",
   "metadata": {},
   "outputs": [
    {
     "data": {
      "text/plain": [
       "m    61\n",
       "f    43\n",
       "Name: sex, dtype: int64"
      ]
     },
     "execution_count": 8,
     "metadata": {},
     "output_type": "execute_result"
    }
   ],
   "source": [
    "data[\"sex\"].value_counts()"
   ]
  },
  {
   "cell_type": "markdown",
   "id": "c9cf8ba0",
   "metadata": {},
   "source": [
    "Binarizamos la categoría sex:"
   ]
  },
  {
   "cell_type": "code",
   "execution_count": 9,
   "id": "9cf3d1e7",
   "metadata": {},
   "outputs": [],
   "source": [
    "def convert_sex_to_int(x):\n",
    " \n",
    "    if x ==\"f\":\n",
    "        return 1\n",
    "    else:\n",
    "        return 0\n",
    "data[\"sex\"] = data[\"sex\"].apply(convert_sex_to_int)"
   ]
  },
  {
   "cell_type": "markdown",
   "id": "d9bbdd68",
   "metadata": {},
   "source": [
    "Dropeamos las columnas \"pop\" y \"case\""
   ]
  },
  {
   "cell_type": "code",
   "execution_count": 10,
   "id": "bd5c0790",
   "metadata": {},
   "outputs": [],
   "source": [
    "data = data.drop([\"case\",\"Pop\"], axis = 1)"
   ]
  },
  {
   "cell_type": "code",
   "execution_count": 11,
   "id": "290511e8",
   "metadata": {},
   "outputs": [
    {
     "data": {
      "text/html": [
       "<div>\n",
       "<style scoped>\n",
       "    .dataframe tbody tr th:only-of-type {\n",
       "        vertical-align: middle;\n",
       "    }\n",
       "\n",
       "    .dataframe tbody tr th {\n",
       "        vertical-align: top;\n",
       "    }\n",
       "\n",
       "    .dataframe thead th {\n",
       "        text-align: right;\n",
       "    }\n",
       "</style>\n",
       "<table border=\"1\" class=\"dataframe\">\n",
       "  <thead>\n",
       "    <tr style=\"text-align: right;\">\n",
       "      <th></th>\n",
       "      <th>site</th>\n",
       "      <th>sex</th>\n",
       "      <th>age</th>\n",
       "      <th>hdlngth</th>\n",
       "      <th>skullw</th>\n",
       "      <th>totlngth</th>\n",
       "      <th>taill</th>\n",
       "      <th>footlgth</th>\n",
       "      <th>earconch</th>\n",
       "      <th>eye</th>\n",
       "      <th>chest</th>\n",
       "      <th>belly</th>\n",
       "    </tr>\n",
       "  </thead>\n",
       "  <tbody>\n",
       "    <tr>\n",
       "      <th>0</th>\n",
       "      <td>1</td>\n",
       "      <td>0</td>\n",
       "      <td>8.0</td>\n",
       "      <td>94.1</td>\n",
       "      <td>60.4</td>\n",
       "      <td>89.0</td>\n",
       "      <td>36.0</td>\n",
       "      <td>74.5</td>\n",
       "      <td>54.5</td>\n",
       "      <td>15.2</td>\n",
       "      <td>28.0</td>\n",
       "      <td>36.0</td>\n",
       "    </tr>\n",
       "    <tr>\n",
       "      <th>1</th>\n",
       "      <td>1</td>\n",
       "      <td>1</td>\n",
       "      <td>6.0</td>\n",
       "      <td>92.5</td>\n",
       "      <td>57.6</td>\n",
       "      <td>91.5</td>\n",
       "      <td>36.5</td>\n",
       "      <td>72.5</td>\n",
       "      <td>51.2</td>\n",
       "      <td>16.0</td>\n",
       "      <td>28.5</td>\n",
       "      <td>33.0</td>\n",
       "    </tr>\n",
       "    <tr>\n",
       "      <th>2</th>\n",
       "      <td>1</td>\n",
       "      <td>1</td>\n",
       "      <td>6.0</td>\n",
       "      <td>94.0</td>\n",
       "      <td>60.0</td>\n",
       "      <td>95.5</td>\n",
       "      <td>39.0</td>\n",
       "      <td>75.4</td>\n",
       "      <td>51.9</td>\n",
       "      <td>15.5</td>\n",
       "      <td>30.0</td>\n",
       "      <td>34.0</td>\n",
       "    </tr>\n",
       "    <tr>\n",
       "      <th>3</th>\n",
       "      <td>1</td>\n",
       "      <td>1</td>\n",
       "      <td>6.0</td>\n",
       "      <td>93.2</td>\n",
       "      <td>57.1</td>\n",
       "      <td>92.0</td>\n",
       "      <td>38.0</td>\n",
       "      <td>76.1</td>\n",
       "      <td>52.2</td>\n",
       "      <td>15.2</td>\n",
       "      <td>28.0</td>\n",
       "      <td>34.0</td>\n",
       "    </tr>\n",
       "    <tr>\n",
       "      <th>4</th>\n",
       "      <td>1</td>\n",
       "      <td>1</td>\n",
       "      <td>2.0</td>\n",
       "      <td>91.5</td>\n",
       "      <td>56.3</td>\n",
       "      <td>85.5</td>\n",
       "      <td>36.0</td>\n",
       "      <td>71.0</td>\n",
       "      <td>53.2</td>\n",
       "      <td>15.1</td>\n",
       "      <td>28.5</td>\n",
       "      <td>33.0</td>\n",
       "    </tr>\n",
       "  </tbody>\n",
       "</table>\n",
       "</div>"
      ],
      "text/plain": [
       "   site  sex  age  hdlngth  skullw  totlngth  taill  footlgth  earconch   eye  \\\n",
       "0     1    0  8.0     94.1    60.4      89.0   36.0      74.5      54.5  15.2   \n",
       "1     1    1  6.0     92.5    57.6      91.5   36.5      72.5      51.2  16.0   \n",
       "2     1    1  6.0     94.0    60.0      95.5   39.0      75.4      51.9  15.5   \n",
       "3     1    1  6.0     93.2    57.1      92.0   38.0      76.1      52.2  15.2   \n",
       "4     1    1  2.0     91.5    56.3      85.5   36.0      71.0      53.2  15.1   \n",
       "\n",
       "   chest  belly  \n",
       "0   28.0   36.0  \n",
       "1   28.5   33.0  \n",
       "2   30.0   34.0  \n",
       "3   28.0   34.0  \n",
       "4   28.5   33.0  "
      ]
     },
     "execution_count": 11,
     "metadata": {},
     "output_type": "execute_result"
    }
   ],
   "source": [
    "data.head()"
   ]
  },
  {
   "cell_type": "markdown",
   "id": "c54cad19",
   "metadata": {},
   "source": [
    "# Regresión"
   ]
  },
  {
   "cell_type": "markdown",
   "id": "f28f552e",
   "metadata": {},
   "source": [
    "Calculamos coeficiente de Pearson para analizar la correlación entre las variables con respecto a nuestra variable target \"totlngth\" para predicción."
   ]
  },
  {
   "cell_type": "code",
   "execution_count": 13,
   "id": "420fa962",
   "metadata": {
    "scrolled": false
   },
   "outputs": [
    {
     "data": {
      "image/png": "[encoded data removed]",
      "text/plain": [
       "<Figure size 1584x576 with 2 Axes>"
      ]
     },
     "metadata": {},
     "output_type": "display_data"
    }
   ],
   "source": [
    "fig, axes = plt.subplots(1,1,figsize=(22,8))\n",
    "\n",
    "tau = data.corr(method='pearson')\n",
    "axes.set_title(\"pearson\")\n",
    "sns.heatmap(tau, cmap=sns.diverging_palette(220,10,as_cmap=True),annot=True,fmt=\".2f\")\n",
    "sns.set(font_scale=0.9)"
   ]
  },
  {
   "cell_type": "markdown",
   "id": "46fdc8d7",
   "metadata": {},
   "source": [
    "Todas las variables matienen correlación con la variable Target. No dropeamos ninguna de ellas. "
   ]
  },
  {
   "cell_type": "code",
   "execution_count": 129,
   "id": "087045d1",
   "metadata": {},
   "outputs": [],
   "source": [
    "y = data['totlngth']\n",
    "X = data.drop('totlngth', axis = 1)"
   ]
  },
  {
   "cell_type": "code",
   "execution_count": 130,
   "id": "44ae7fd2",
   "metadata": {},
   "outputs": [
    {
     "data": {
      "text/html": [
       "<div>\n",
       "<style scoped>\n",
       "    .dataframe tbody tr th:only-of-type {\n",
       "        vertical-align: middle;\n",
       "    }\n",
       "\n",
       "    .dataframe tbody tr th {\n",
       "        vertical-align: top;\n",
       "    }\n",
       "\n",
       "    .dataframe thead th {\n",
       "        text-align: right;\n",
       "    }\n",
       "</style>\n",
       "<table border=\"1\" class=\"dataframe\">\n",
       "  <thead>\n",
       "    <tr style=\"text-align: right;\">\n",
       "      <th></th>\n",
       "      <th>site</th>\n",
       "      <th>sex</th>\n",
       "      <th>age</th>\n",
       "      <th>hdlngth</th>\n",
       "      <th>skullw</th>\n",
       "      <th>taill</th>\n",
       "      <th>footlgth</th>\n",
       "      <th>earconch</th>\n",
       "      <th>eye</th>\n",
       "      <th>chest</th>\n",
       "      <th>belly</th>\n",
       "    </tr>\n",
       "  </thead>\n",
       "  <tbody>\n",
       "    <tr>\n",
       "      <th>0</th>\n",
       "      <td>1</td>\n",
       "      <td>0</td>\n",
       "      <td>8.0</td>\n",
       "      <td>94.1</td>\n",
       "      <td>60.4</td>\n",
       "      <td>36.0</td>\n",
       "      <td>74.5</td>\n",
       "      <td>54.5</td>\n",
       "      <td>15.2</td>\n",
       "      <td>28.0</td>\n",
       "      <td>36.0</td>\n",
       "    </tr>\n",
       "    <tr>\n",
       "      <th>1</th>\n",
       "      <td>1</td>\n",
       "      <td>1</td>\n",
       "      <td>6.0</td>\n",
       "      <td>92.5</td>\n",
       "      <td>57.6</td>\n",
       "      <td>36.5</td>\n",
       "      <td>72.5</td>\n",
       "      <td>51.2</td>\n",
       "      <td>16.0</td>\n",
       "      <td>28.5</td>\n",
       "      <td>33.0</td>\n",
       "    </tr>\n",
       "    <tr>\n",
       "      <th>2</th>\n",
       "      <td>1</td>\n",
       "      <td>1</td>\n",
       "      <td>6.0</td>\n",
       "      <td>94.0</td>\n",
       "      <td>60.0</td>\n",
       "      <td>39.0</td>\n",
       "      <td>75.4</td>\n",
       "      <td>51.9</td>\n",
       "      <td>15.5</td>\n",
       "      <td>30.0</td>\n",
       "      <td>34.0</td>\n",
       "    </tr>\n",
       "    <tr>\n",
       "      <th>3</th>\n",
       "      <td>1</td>\n",
       "      <td>1</td>\n",
       "      <td>6.0</td>\n",
       "      <td>93.2</td>\n",
       "      <td>57.1</td>\n",
       "      <td>38.0</td>\n",
       "      <td>76.1</td>\n",
       "      <td>52.2</td>\n",
       "      <td>15.2</td>\n",
       "      <td>28.0</td>\n",
       "      <td>34.0</td>\n",
       "    </tr>\n",
       "    <tr>\n",
       "      <th>4</th>\n",
       "      <td>1</td>\n",
       "      <td>1</td>\n",
       "      <td>2.0</td>\n",
       "      <td>91.5</td>\n",
       "      <td>56.3</td>\n",
       "      <td>36.0</td>\n",
       "      <td>71.0</td>\n",
       "      <td>53.2</td>\n",
       "      <td>15.1</td>\n",
       "      <td>28.5</td>\n",
       "      <td>33.0</td>\n",
       "    </tr>\n",
       "  </tbody>\n",
       "</table>\n",
       "</div>"
      ],
      "text/plain": [
       "   site  sex  age  hdlngth  skullw  taill  footlgth  earconch   eye  chest  \\\n",
       "0     1    0  8.0     94.1    60.4   36.0      74.5      54.5  15.2   28.0   \n",
       "1     1    1  6.0     92.5    57.6   36.5      72.5      51.2  16.0   28.5   \n",
       "2     1    1  6.0     94.0    60.0   39.0      75.4      51.9  15.5   30.0   \n",
       "3     1    1  6.0     93.2    57.1   38.0      76.1      52.2  15.2   28.0   \n",
       "4     1    1  2.0     91.5    56.3   36.0      71.0      53.2  15.1   28.5   \n",
       "\n",
       "   belly  \n",
       "0   36.0  \n",
       "1   33.0  \n",
       "2   34.0  \n",
       "3   34.0  \n",
       "4   33.0  "
      ]
     },
     "execution_count": 130,
     "metadata": {},
     "output_type": "execute_result"
    }
   ],
   "source": [
    "X.head()"
   ]
  },
  {
   "cell_type": "code",
   "execution_count": 131,
   "id": "2d3634a4",
   "metadata": {},
   "outputs": [
    {
     "data": {
      "text/plain": [
       "(104, 11)"
      ]
     },
     "execution_count": 131,
     "metadata": {},
     "output_type": "execute_result"
    }
   ],
   "source": [
    "X.shape"
   ]
  },
  {
   "cell_type": "code",
   "execution_count": 132,
   "id": "b8beab66",
   "metadata": {},
   "outputs": [
    {
     "data": {
      "text/plain": [
       "(104,)"
      ]
     },
     "execution_count": 132,
     "metadata": {},
     "output_type": "execute_result"
    }
   ],
   "source": [
    "y.shape"
   ]
  },
  {
   "cell_type": "markdown",
   "id": "26536d23",
   "metadata": {},
   "source": [
    "Separamos en train y test"
   ]
  },
  {
   "cell_type": "code",
   "execution_count": 133,
   "id": "976bd339",
   "metadata": {},
   "outputs": [],
   "source": [
    "x_train, x_test, y_train, y_test = train_test_split(X, y, test_size = 0.20, random_state = 2)"
   ]
  },
  {
   "cell_type": "code",
   "execution_count": 138,
   "id": "8934b93a",
   "metadata": {},
   "outputs": [
    {
     "data": {
      "text/plain": [
       "site        0\n",
       "sex         0\n",
       "age         2\n",
       "hdlngth     0\n",
       "skullw      0\n",
       "taill       0\n",
       "footlgth    1\n",
       "earconch    0\n",
       "eye         0\n",
       "chest       0\n",
       "belly       0\n",
       "dtype: int64"
      ]
     },
     "execution_count": 138,
     "metadata": {},
     "output_type": "execute_result"
    }
   ],
   "source": [
    "x_train.isnull().sum()"
   ]
  },
  {
   "cell_type": "code",
   "execution_count": 139,
   "id": "57aa1da9",
   "metadata": {},
   "outputs": [
    {
     "data": {
      "text/plain": [
       "site        0\n",
       "sex         0\n",
       "age         0\n",
       "hdlngth     0\n",
       "skullw      0\n",
       "taill       0\n",
       "footlgth    0\n",
       "earconch    0\n",
       "eye         0\n",
       "chest       0\n",
       "belly       0\n",
       "dtype: int64"
      ]
     },
     "execution_count": 139,
     "metadata": {},
     "output_type": "execute_result"
    }
   ],
   "source": [
    "x_test.isnull().sum()"
   ]
  },
  {
   "cell_type": "markdown",
   "id": "9c07e3b0",
   "metadata": {},
   "source": [
    "sólo tenemos datos faltantes en x_train, imputamos la media de la columna en los tres valores faltantes."
   ]
  },
  {
   "cell_type": "code",
   "execution_count": 140,
   "id": "90aff9e0",
   "metadata": {},
   "outputs": [],
   "source": [
    "x_train.fillna(x_train.mean(), inplace=True)"
   ]
  },
  {
   "cell_type": "code",
   "execution_count": 141,
   "id": "d6a0b456",
   "metadata": {},
   "outputs": [
    {
     "data": {
      "text/plain": [
       "site        0\n",
       "sex         0\n",
       "age         0\n",
       "hdlngth     0\n",
       "skullw      0\n",
       "taill       0\n",
       "footlgth    0\n",
       "earconch    0\n",
       "eye         0\n",
       "chest       0\n",
       "belly       0\n",
       "dtype: int64"
      ]
     },
     "execution_count": 141,
     "metadata": {},
     "output_type": "execute_result"
    }
   ],
   "source": [
    "x_train.isnull().sum()"
   ]
  },
  {
   "cell_type": "markdown",
   "id": "ce62af93",
   "metadata": {},
   "source": [
    "## PCA"
   ]
  },
  {
   "cell_type": "markdown",
   "id": "79117790",
   "metadata": {},
   "source": [
    "Escalamos los datos de train y test"
   ]
  },
  {
   "cell_type": "code",
   "execution_count": 142,
   "id": "894ec835",
   "metadata": {},
   "outputs": [],
   "source": [
    "scaler = StandardScaler()\n",
    "scaler_x = scaler.fit(x_train)\n",
    "x_train_scaled = scaler_x.transform(x_train)\n",
    "x_test_scaled = scaler_x.transform(x_test)"
   ]
  },
  {
   "cell_type": "code",
   "execution_count": 143,
   "id": "3de43a0f",
   "metadata": {},
   "outputs": [],
   "source": [
    "pca = PCA(n_components=0.9, random_state=2).fit(x_train_scaled)\n",
    "x_train_pca = pca.transform(x_train_scaled)\n",
    "x_test_pca = pca.transform(x_test_scaled)"
   ]
  },
  {
   "cell_type": "markdown",
   "id": "ea6584cd",
   "metadata": {},
   "source": [
    "La cantidad de componentes principales con los que nos quedamos para mantener el 90% de la varianza. "
   ]
  },
  {
   "cell_type": "code",
   "execution_count": 144,
   "id": "2fe77487",
   "metadata": {},
   "outputs": [
    {
     "data": {
      "text/plain": [
       "7"
      ]
     },
     "execution_count": 144,
     "metadata": {},
     "output_type": "execute_result"
    }
   ],
   "source": [
    "x_train_pca.shape[1]"
   ]
  },
  {
   "cell_type": "code",
   "execution_count": 145,
   "id": "88de4205",
   "metadata": {
    "scrolled": false
   },
   "outputs": [
    {
     "data": {
      "image/png": "[encoded data removed]",
      "text/plain": [
       "<Figure size 720x504 with 1 Axes>"
      ]
     },
     "metadata": {},
     "output_type": "display_data"
    }
   ],
   "source": [
    "pca_2 = PCA(n_components=11, random_state=2).fit(x_train_scaled)\n",
    "\n",
    "plt.figure(figsize=(10,7))\n",
    "plt.plot(np.cumsum(pca_2.explained_variance_ratio_), color='k', lw=2)\n",
    "plt.xlabel('Cantidad de componentes')\n",
    "plt.ylabel('Total varianza contemplada')\n",
    "plt.xlim(0, 11)\n",
    "plt.yticks(np.arange(0, 1.1, 0.1))\n",
    "plt.axvline(7, c='b')\n",
    "plt.axhline(0.9, c='r')\n",
    "plt.show();"
   ]
  },
  {
   "cell_type": "markdown",
   "id": "c3aafd72",
   "metadata": {},
   "source": [
    "Con 7 componentes nos quedamos con un poco más del 90% de la varianza. "
   ]
  },
  {
   "cell_type": "markdown",
   "id": "f8861eb2",
   "metadata": {},
   "source": [
    "### Modelos"
   ]
  },
  {
   "cell_type": "markdown",
   "id": "0d50043b",
   "metadata": {},
   "source": [
    "### 1. Regresión lineal con Ridge + bias"
   ]
  },
  {
   "cell_type": "code",
   "execution_count": 146,
   "id": "3cd7bb1b",
   "metadata": {},
   "outputs": [
    {
     "data": {
      "text/plain": [
       "Ridge(random_state=2)"
      ]
     },
     "execution_count": 146,
     "metadata": {},
     "output_type": "execute_result"
    }
   ],
   "source": [
    "linear_regression_R = Ridge(alpha=1.0, fit_intercept=True, random_state=2)\n",
    "linear_regression_R.fit(x_train_pca, y_train)"
   ]
  },
  {
   "cell_type": "markdown",
   "id": "75aa3f8b",
   "metadata": {},
   "source": [
    "vemos los coeficientes y el bias calculado por el modelo"
   ]
  },
  {
   "cell_type": "code",
   "execution_count": 147,
   "id": "11408982",
   "metadata": {},
   "outputs": [
    {
     "data": {
      "text/plain": [
       "array([-1.64010095, -0.48543129,  0.69514194,  0.84888843, -1.5233957 ,\n",
       "       -0.54238263, -0.84068859])"
      ]
     },
     "execution_count": 147,
     "metadata": {},
     "output_type": "execute_result"
    }
   ],
   "source": [
    "linear_regression_R.coef_"
   ]
  },
  {
   "cell_type": "code",
   "execution_count": 148,
   "id": "77a91554",
   "metadata": {},
   "outputs": [
    {
     "data": {
      "text/plain": [
       "86.99036144578314"
      ]
     },
     "execution_count": 148,
     "metadata": {},
     "output_type": "execute_result"
    }
   ],
   "source": [
    "linear_regression_R.intercept_"
   ]
  },
  {
   "cell_type": "markdown",
   "id": "e46df3eb",
   "metadata": {},
   "source": [
    "Hacemos predicción sobre test"
   ]
  },
  {
   "cell_type": "code",
   "execution_count": 149,
   "id": "5ccc3069",
   "metadata": {},
   "outputs": [],
   "source": [
    "pred = linear_regression_R.predict(x_test_pca)"
   ]
  },
  {
   "cell_type": "markdown",
   "id": "2ea70119",
   "metadata": {},
   "source": [
    "Calculamos mse y r2"
   ]
  },
  {
   "cell_type": "code",
   "execution_count": 150,
   "id": "ce184a24",
   "metadata": {},
   "outputs": [],
   "source": [
    "mse = MSE()"
   ]
  },
  {
   "cell_type": "code",
   "execution_count": 151,
   "id": "1d1863d9",
   "metadata": {},
   "outputs": [
    {
     "data": {
      "text/plain": [
       "5.466516003127017"
      ]
     },
     "execution_count": 151,
     "metadata": {},
     "output_type": "execute_result"
    }
   ],
   "source": [
    "lrr_mse = mse(y_test, pred)\n",
    "lrr_mse"
   ]
  },
  {
   "cell_type": "code",
   "execution_count": 152,
   "id": "408921a9",
   "metadata": {},
   "outputs": [
    {
     "data": {
      "text/plain": [
       "0.74162214585101"
      ]
     },
     "execution_count": 152,
     "metadata": {},
     "output_type": "execute_result"
    }
   ],
   "source": [
    "r2 = linear_regression_R.score(x_train_pca, y_train, linear_regression_R.predict(x_train_pca))\n",
    "r2"
   ]
  },
  {
   "cell_type": "markdown",
   "id": "59c24c4e",
   "metadata": {},
   "source": [
    "No es un mal modelo, probamos ahora con Lasso"
   ]
  },
  {
   "cell_type": "markdown",
   "id": "8eff720e",
   "metadata": {},
   "source": [
    "### 2. Regresión Lineal con Lasso + bias"
   ]
  },
  {
   "cell_type": "code",
   "execution_count": 153,
   "id": "92104905",
   "metadata": {},
   "outputs": [
    {
     "data": {
      "text/plain": [
       "Lasso(random_state=2)"
      ]
     },
     "execution_count": 153,
     "metadata": {},
     "output_type": "execute_result"
    }
   ],
   "source": [
    "linear_regression_L = linear_model.Lasso(alpha=1.0, fit_intercept=True, random_state=2)\n",
    "linear_regression_L.fit(x_train_pca, y_train)"
   ]
  },
  {
   "cell_type": "markdown",
   "id": "cd376452",
   "metadata": {},
   "source": [
    "vemos los coeficientes y el bias calculado por el modelo"
   ]
  },
  {
   "cell_type": "code",
   "execution_count": 154,
   "id": "9ddf3402",
   "metadata": {},
   "outputs": [
    {
     "data": {
      "text/plain": [
       "array([-1.37668119, -0.11170935,  0.        ,  0.        , -0.1887359 ,\n",
       "       -0.        , -0.        ])"
      ]
     },
     "execution_count": 154,
     "metadata": {},
     "output_type": "execute_result"
    }
   ],
   "source": [
    "linear_regression_L.coef_"
   ]
  },
  {
   "cell_type": "code",
   "execution_count": 155,
   "id": "7bdd081b",
   "metadata": {},
   "outputs": [
    {
     "data": {
      "text/plain": [
       "86.99036144578314"
      ]
     },
     "execution_count": 155,
     "metadata": {},
     "output_type": "execute_result"
    }
   ],
   "source": [
    "linear_regression_L.intercept_"
   ]
  },
  {
   "cell_type": "markdown",
   "id": "120c3780",
   "metadata": {},
   "source": [
    "Hacemos predicción sobre test"
   ]
  },
  {
   "cell_type": "code",
   "execution_count": 156,
   "id": "1c2aaa37",
   "metadata": {},
   "outputs": [],
   "source": [
    "pred_L = linear_regression_L.predict(x_test_pca)"
   ]
  },
  {
   "cell_type": "markdown",
   "id": "b39b36fa",
   "metadata": {},
   "source": [
    "Calculamos mse y r2"
   ]
  },
  {
   "cell_type": "code",
   "execution_count": 157,
   "id": "52aabac0",
   "metadata": {},
   "outputs": [
    {
     "data": {
      "text/plain": [
       "7.631941123493864"
      ]
     },
     "execution_count": 157,
     "metadata": {},
     "output_type": "execute_result"
    }
   ],
   "source": [
    "lrl_mse = mse(y_test, pred_L)\n",
    "lrl_mse"
   ]
  },
  {
   "cell_type": "code",
   "execution_count": 158,
   "id": "c93b6566",
   "metadata": {},
   "outputs": [
    {
     "data": {
      "text/plain": [
       "0.5460124289296185"
      ]
     },
     "execution_count": 158,
     "metadata": {},
     "output_type": "execute_result"
    }
   ],
   "source": [
    "r2_L = linear_regression_L.score(x_train_pca, y_train, linear_regression_L.predict(x_train_pca))\n",
    "r2_L"
   ]
  },
  {
   "cell_type": "markdown",
   "id": "48d98d87",
   "metadata": {},
   "source": [
    "#### graficamos las lineas de predicción para ambos modelos en la componente 1. "
   ]
  },
  {
   "cell_type": "code",
   "execution_count": 171,
   "id": "abef6935",
   "metadata": {
    "scrolled": false
   },
   "outputs": [
    {
     "data": {
      "image/png": "[encoded data removed]",
      "text/plain": [
       "<Figure size 720x504 with 1 Axes>"
      ]
     },
     "metadata": {},
     "output_type": "display_data"
    }
   ],
   "source": [
    "f , ax = plt.subplots(figsize =(10,7))\n",
    "ax.scatter(x_train_pca[:,0], y_train)\n",
    "\n",
    "ax.plot(x_train_pca[:,0], linear_regression_R.coef_[0]*x_train_pca[:,0] + linear_regression_R.intercept_, color = 'orange')\n",
    "ax.plot(x_train_pca[:,0], linear_regression_L.coef_[0]*x_train_pca[:,0] + linear_regression_L.intercept_, color='violet')\n",
    "\n",
    "\n",
    "plt.show()"
   ]
  },
  {
   "cell_type": "markdown",
   "id": "24ccae0c",
   "metadata": {},
   "source": [
    "Vemos que ridge tiene un mejor acercamiento al comportamiento de los datos hasta donde pueden ser representados. "
   ]
  },
  {
   "cell_type": "markdown",
   "id": "954505c6",
   "metadata": {},
   "source": [
    "## Clasificación"
   ]
  },
  {
   "cell_type": "markdown",
   "id": "fb82e51f",
   "metadata": {},
   "source": [
    "1. Calculamos coeficiente de kendall para ver la correlación entre las variables numéricas y  target  \"sex\"."
   ]
  },
  {
   "cell_type": "code",
   "execution_count": 118,
   "id": "c1ca4fe6",
   "metadata": {},
   "outputs": [
    {
     "data": {
      "image/png": "[encoded data removed]",
      "text/plain": [
       "<Figure size 1584x576 with 2 Axes>"
      ]
     },
     "metadata": {},
     "output_type": "display_data"
    }
   ],
   "source": [
    "fig, axes = plt.subplots(1,1,figsize=(22,8))\n",
    "\n",
    "tau = data.corr(method='kendall')\n",
    "axes.set_title(\"Kendall\")\n",
    "sns.heatmap(tau, cmap=sns.diverging_palette(220,10,as_cmap=True),annot=True,fmt=\".2f\")\n",
    "sns.set(font_scale=0.9)"
   ]
  },
  {
   "cell_type": "markdown",
   "id": "894c4a1d",
   "metadata": {},
   "source": [
    "La correlación de 'sex' con las otras variables no es mucha y todas se mantienen en valores muy bajos. Voy a mantener todas las variables y hacer pca sobre todo el dataset. "
   ]
  },
  {
   "cell_type": "code",
   "execution_count": 165,
   "id": "f0f5e9ae",
   "metadata": {},
   "outputs": [],
   "source": [
    "y_2 = data['sex']\n",
    "x_2 = data.drop('sex', axis = 1)"
   ]
  },
  {
   "cell_type": "code",
   "execution_count": 172,
   "id": "47e227c5",
   "metadata": {},
   "outputs": [
    {
     "data": {
      "text/html": [
       "<div>\n",
       "<style scoped>\n",
       "    .dataframe tbody tr th:only-of-type {\n",
       "        vertical-align: middle;\n",
       "    }\n",
       "\n",
       "    .dataframe tbody tr th {\n",
       "        vertical-align: top;\n",
       "    }\n",
       "\n",
       "    .dataframe thead th {\n",
       "        text-align: right;\n",
       "    }\n",
       "</style>\n",
       "<table border=\"1\" class=\"dataframe\">\n",
       "  <thead>\n",
       "    <tr style=\"text-align: right;\">\n",
       "      <th></th>\n",
       "      <th>site</th>\n",
       "      <th>age</th>\n",
       "      <th>hdlngth</th>\n",
       "      <th>skullw</th>\n",
       "      <th>totlngth</th>\n",
       "      <th>taill</th>\n",
       "      <th>footlgth</th>\n",
       "      <th>earconch</th>\n",
       "      <th>eye</th>\n",
       "      <th>chest</th>\n",
       "      <th>belly</th>\n",
       "    </tr>\n",
       "  </thead>\n",
       "  <tbody>\n",
       "    <tr>\n",
       "      <th>0</th>\n",
       "      <td>1</td>\n",
       "      <td>8.0</td>\n",
       "      <td>94.1</td>\n",
       "      <td>60.4</td>\n",
       "      <td>89.0</td>\n",
       "      <td>36.0</td>\n",
       "      <td>74.5</td>\n",
       "      <td>54.5</td>\n",
       "      <td>15.2</td>\n",
       "      <td>28.0</td>\n",
       "      <td>36.0</td>\n",
       "    </tr>\n",
       "    <tr>\n",
       "      <th>1</th>\n",
       "      <td>1</td>\n",
       "      <td>6.0</td>\n",
       "      <td>92.5</td>\n",
       "      <td>57.6</td>\n",
       "      <td>91.5</td>\n",
       "      <td>36.5</td>\n",
       "      <td>72.5</td>\n",
       "      <td>51.2</td>\n",
       "      <td>16.0</td>\n",
       "      <td>28.5</td>\n",
       "      <td>33.0</td>\n",
       "    </tr>\n",
       "    <tr>\n",
       "      <th>2</th>\n",
       "      <td>1</td>\n",
       "      <td>6.0</td>\n",
       "      <td>94.0</td>\n",
       "      <td>60.0</td>\n",
       "      <td>95.5</td>\n",
       "      <td>39.0</td>\n",
       "      <td>75.4</td>\n",
       "      <td>51.9</td>\n",
       "      <td>15.5</td>\n",
       "      <td>30.0</td>\n",
       "      <td>34.0</td>\n",
       "    </tr>\n",
       "    <tr>\n",
       "      <th>3</th>\n",
       "      <td>1</td>\n",
       "      <td>6.0</td>\n",
       "      <td>93.2</td>\n",
       "      <td>57.1</td>\n",
       "      <td>92.0</td>\n",
       "      <td>38.0</td>\n",
       "      <td>76.1</td>\n",
       "      <td>52.2</td>\n",
       "      <td>15.2</td>\n",
       "      <td>28.0</td>\n",
       "      <td>34.0</td>\n",
       "    </tr>\n",
       "    <tr>\n",
       "      <th>4</th>\n",
       "      <td>1</td>\n",
       "      <td>2.0</td>\n",
       "      <td>91.5</td>\n",
       "      <td>56.3</td>\n",
       "      <td>85.5</td>\n",
       "      <td>36.0</td>\n",
       "      <td>71.0</td>\n",
       "      <td>53.2</td>\n",
       "      <td>15.1</td>\n",
       "      <td>28.5</td>\n",
       "      <td>33.0</td>\n",
       "    </tr>\n",
       "  </tbody>\n",
       "</table>\n",
       "</div>"
      ],
      "text/plain": [
       "   site  age  hdlngth  skullw  totlngth  taill  footlgth  earconch   eye  \\\n",
       "0     1  8.0     94.1    60.4      89.0   36.0      74.5      54.5  15.2   \n",
       "1     1  6.0     92.5    57.6      91.5   36.5      72.5      51.2  16.0   \n",
       "2     1  6.0     94.0    60.0      95.5   39.0      75.4      51.9  15.5   \n",
       "3     1  6.0     93.2    57.1      92.0   38.0      76.1      52.2  15.2   \n",
       "4     1  2.0     91.5    56.3      85.5   36.0      71.0      53.2  15.1   \n",
       "\n",
       "   chest  belly  \n",
       "0   28.0   36.0  \n",
       "1   28.5   33.0  \n",
       "2   30.0   34.0  \n",
       "3   28.0   34.0  \n",
       "4   28.5   33.0  "
      ]
     },
     "execution_count": 172,
     "metadata": {},
     "output_type": "execute_result"
    }
   ],
   "source": [
    "x_2.head()"
   ]
  },
  {
   "cell_type": "markdown",
   "id": "7fa7269f",
   "metadata": {},
   "source": [
    "Separamos en train y test"
   ]
  },
  {
   "cell_type": "code",
   "execution_count": 166,
   "id": "b93f22b3",
   "metadata": {},
   "outputs": [],
   "source": [
    "x_2_train, x_2_test, y_2_train, y_2_test = train_test_split(x_2, y_2, test_size = 0.20, random_state = 2)"
   ]
  },
  {
   "cell_type": "code",
   "execution_count": 167,
   "id": "151c914a",
   "metadata": {},
   "outputs": [
    {
     "data": {
      "text/plain": [
       "site        0\n",
       "age         2\n",
       "hdlngth     0\n",
       "skullw      0\n",
       "totlngth    0\n",
       "taill       0\n",
       "footlgth    1\n",
       "earconch    0\n",
       "eye         0\n",
       "chest       0\n",
       "belly       0\n",
       "dtype: int64"
      ]
     },
     "execution_count": 167,
     "metadata": {},
     "output_type": "execute_result"
    }
   ],
   "source": [
    "x_2_train.isnull().sum()"
   ]
  },
  {
   "cell_type": "code",
   "execution_count": 169,
   "id": "b21f0c8a",
   "metadata": {},
   "outputs": [
    {
     "data": {
      "text/plain": [
       "site        0\n",
       "age         0\n",
       "hdlngth     0\n",
       "skullw      0\n",
       "totlngth    0\n",
       "taill       0\n",
       "footlgth    0\n",
       "earconch    0\n",
       "eye         0\n",
       "chest       0\n",
       "belly       0\n",
       "dtype: int64"
      ]
     },
     "execution_count": 169,
     "metadata": {},
     "output_type": "execute_result"
    }
   ],
   "source": [
    "x_2_test.isnull().sum()"
   ]
  },
  {
   "cell_type": "markdown",
   "id": "2badeefc",
   "metadata": {},
   "source": [
    "sólo tenemos datos faltantes en x_train, imputamos la media de la columna en los tres valores faltantes."
   ]
  },
  {
   "cell_type": "code",
   "execution_count": 173,
   "id": "2fcbe710",
   "metadata": {},
   "outputs": [],
   "source": [
    "x_2_train.fillna(x_2_train.mean(), inplace=True)"
   ]
  },
  {
   "cell_type": "code",
   "execution_count": 175,
   "id": "87edfbfa",
   "metadata": {},
   "outputs": [
    {
     "data": {
      "text/plain": [
       "site        0\n",
       "age         0\n",
       "hdlngth     0\n",
       "skullw      0\n",
       "totlngth    0\n",
       "taill       0\n",
       "footlgth    0\n",
       "earconch    0\n",
       "eye         0\n",
       "chest       0\n",
       "belly       0\n",
       "dtype: int64"
      ]
     },
     "execution_count": 175,
     "metadata": {},
     "output_type": "execute_result"
    }
   ],
   "source": [
    "x_2_train.isnull().sum()"
   ]
  },
  {
   "cell_type": "markdown",
   "id": "7e8ca95e",
   "metadata": {},
   "source": [
    "### PCA"
   ]
  },
  {
   "cell_type": "markdown",
   "id": "42b98130",
   "metadata": {},
   "source": [
    "Escalamos los datos sobre train y test"
   ]
  },
  {
   "cell_type": "code",
   "execution_count": 178,
   "id": "b45ddd66",
   "metadata": {},
   "outputs": [],
   "source": [
    "scaler = StandardScaler()\n",
    "scaler_x_2 = scaler.fit(x_2_train)\n",
    "x_2_train_scaled = scaler_x_2.transform(x_2_train)\n",
    "x_2_test_scaled = scaler_x_2.transform(x_2_test)"
   ]
  },
  {
   "cell_type": "code",
   "execution_count": 179,
   "id": "9129f333",
   "metadata": {},
   "outputs": [],
   "source": [
    "pca = PCA(n_components=0.9, random_state=2).fit(x_2_train_scaled)\n",
    "x_2_train_pca = pca.transform(x_2_train_scaled)\n",
    "x_2_test_pca = pca.transform(x_2_test_scaled)"
   ]
  },
  {
   "cell_type": "markdown",
   "id": "76475d2f",
   "metadata": {},
   "source": [
    "La cantidad de componentes principales con los que nos quedamos para mantener el 90% de la varianza. "
   ]
  },
  {
   "cell_type": "code",
   "execution_count": 180,
   "id": "f88fcf13",
   "metadata": {},
   "outputs": [
    {
     "data": {
      "text/plain": [
       "6"
      ]
     },
     "execution_count": 180,
     "metadata": {},
     "output_type": "execute_result"
    }
   ],
   "source": [
    "x_2_train_pca.shape[1]"
   ]
  },
  {
   "cell_type": "code",
   "execution_count": 182,
   "id": "a2b6110a",
   "metadata": {},
   "outputs": [
    {
     "data": {
      "image/png": "[encoded data removed]",
      "text/plain": [
       "<Figure size 720x504 with 1 Axes>"
      ]
     },
     "metadata": {},
     "output_type": "display_data"
    }
   ],
   "source": [
    "pca_2 = PCA(n_components=11, random_state=2).fit(x_2_train_scaled)\n",
    "\n",
    "plt.figure(figsize=(10,7))\n",
    "plt.plot(np.cumsum(pca_2.explained_variance_ratio_), color='k', lw=2)\n",
    "plt.xlabel('Cantidad de componentes')\n",
    "plt.ylabel('Total varianza contemplada')\n",
    "plt.xlim(0, 11)\n",
    "plt.yticks(np.arange(0, 1.1, 0.1))\n",
    "plt.axvline(6, c='b')\n",
    "plt.axhline(0.9, c='r')\n",
    "plt.show();"
   ]
  },
  {
   "cell_type": "markdown",
   "id": "75ae0b52",
   "metadata": {},
   "source": [
    "### Modelos"
   ]
  },
  {
   "cell_type": "markdown",
   "id": "a70af64e",
   "metadata": {},
   "source": [
    "### 1. Regresión logística + Lasso "
   ]
  },
  {
   "cell_type": "code",
   "execution_count": 212,
   "id": "66c8a5e1",
   "metadata": {
    "scrolled": false
   },
   "outputs": [
    {
     "name": "stdout",
     "output_type": "stream",
     "text": [
      "-- Epoch 1\n",
      "Norm: 43.00, NNZs: 6, Bias: -3.162075, T: 83, Avg. loss: 23.307279\n",
      "Total training time: 0.00 seconds.\n",
      "-- Epoch 2\n",
      "Norm: 47.28, NNZs: 6, Bias: 3.467084, T: 166, Avg. loss: 19.956657\n",
      "Total training time: 0.00 seconds.\n",
      "-- Epoch 3\n",
      "Norm: 65.48, NNZs: 6, Bias: -30.216960, T: 249, Avg. loss: 20.075219\n",
      "Total training time: 0.00 seconds.\n",
      "-- Epoch 4\n",
      "Norm: 48.63, NNZs: 6, Bias: -17.792550, T: 332, Avg. loss: 20.085815\n",
      "Total training time: 0.00 seconds.\n",
      "-- Epoch 5\n",
      "Norm: 47.29, NNZs: 6, Bias: -7.198090, T: 415, Avg. loss: 15.920871\n",
      "Total training time: 0.00 seconds.\n",
      "-- Epoch 6\n",
      "Norm: 54.21, NNZs: 6, Bias: -20.176816, T: 498, Avg. loss: 15.724767\n",
      "Total training time: 0.00 seconds.\n",
      "-- Epoch 7\n",
      "Norm: 56.44, NNZs: 5, Bias: -12.693564, T: 581, Avg. loss: 13.518818\n",
      "Total training time: 0.00 seconds.\n",
      "-- Epoch 8\n",
      "Norm: 56.65, NNZs: 6, Bias: -5.419285, T: 664, Avg. loss: 11.439606\n",
      "Total training time: 0.00 seconds.\n",
      "-- Epoch 9\n",
      "Norm: 58.50, NNZs: 6, Bias: -9.514587, T: 747, Avg. loss: 10.631289\n",
      "Total training time: 0.00 seconds.\n",
      "-- Epoch 10\n",
      "Norm: 59.47, NNZs: 6, Bias: -19.169597, T: 830, Avg. loss: 12.822904\n",
      "Total training time: 0.00 seconds.\n",
      "-- Epoch 11\n",
      "Norm: 61.27, NNZs: 6, Bias: -14.415620, T: 913, Avg. loss: 13.156969\n",
      "Total training time: 0.00 seconds.\n",
      "-- Epoch 12\n",
      "Norm: 67.69, NNZs: 5, Bias: -13.603565, T: 996, Avg. loss: 8.594508\n",
      "Total training time: 0.00 seconds.\n",
      "-- Epoch 13\n",
      "Norm: 67.94, NNZs: 6, Bias: -18.951232, T: 1079, Avg. loss: 10.135429\n",
      "Total training time: 0.00 seconds.\n",
      "-- Epoch 14\n",
      "Norm: 71.40, NNZs: 6, Bias: -4.524632, T: 1162, Avg. loss: 12.471939\n",
      "Total training time: 0.00 seconds.\n",
      "-- Epoch 15\n",
      "Norm: 76.16, NNZs: 6, Bias: -2.239885, T: 1245, Avg. loss: 9.398550\n",
      "Total training time: 0.00 seconds.\n",
      "-- Epoch 16\n",
      "Norm: 80.60, NNZs: 6, Bias: -17.379174, T: 1328, Avg. loss: 9.530287\n",
      "Total training time: 0.00 seconds.\n",
      "-- Epoch 17\n",
      "Norm: 81.35, NNZs: 6, Bias: -5.097142, T: 1411, Avg. loss: 11.477839\n",
      "Total training time: 0.00 seconds.\n",
      "Convergence after 17 epochs took 0.00 seconds\n"
     ]
    },
    {
     "data": {
      "text/plain": [
       "SGDClassifier(l1_ratio=0.01, loss='log', max_iter=10000, penalty='l1',\n",
       "              verbose=1)"
      ]
     },
     "execution_count": 212,
     "metadata": {},
     "output_type": "execute_result"
    }
   ],
   "source": [
    "rg = SGDClassifier(loss = 'log', l1_ratio=0.01, verbose=1, penalty='l1', max_iter=10000)\n",
    "rg.fit(x_2_train_pca, y_2_train)"
   ]
  },
  {
   "cell_type": "code",
   "execution_count": 213,
   "id": "529f74fa",
   "metadata": {},
   "outputs": [
    {
     "name": "stdout",
     "output_type": "stream",
     "text": [
      "[0.36398445]\n"
     ]
    }
   ],
   "source": [
    "intercept = -(rg.intercept_/rg.coef_[0][1])\n",
    "print(intercept)"
   ]
  },
  {
   "cell_type": "code",
   "execution_count": 214,
   "id": "625cb82c",
   "metadata": {},
   "outputs": [
    {
     "name": "stdout",
     "output_type": "stream",
     "text": [
      "-0.1272495857156827\n"
     ]
    }
   ],
   "source": [
    "slope = -(rg.coef_[0][0]/ rg.coef_[0][1])\n",
    "print(slope)"
   ]
  },
  {
   "cell_type": "code",
   "execution_count": 215,
   "id": "e0bf26c0",
   "metadata": {},
   "outputs": [
    {
     "data": {
      "image/png": "[encoded data removed]",
      "text/plain": [
       "<Figure size 864x720 with 1 Axes>"
      ]
     },
     "metadata": {},
     "output_type": "display_data"
    }
   ],
   "source": [
    "plt.figure(figsize=(12,10))\n",
    "plt.scatter(x_2_train_pca[:, 2], x_2_train_pca[:, 3], c=y_2_train[:])\n",
    "y_vals = intercept + (slope * x_2_train_pca[:, 0])\n",
    "plt.plot(x_2_train_pca[:, 0], y_vals, c=\"k\")\n",
    "plt.title('Decision Boundary')\n",
    "plt.ylim((-30, 60))\n",
    "plt.show()"
   ]
  },
  {
   "cell_type": "code",
   "execution_count": 216,
   "id": "7dd76546",
   "metadata": {},
   "outputs": [],
   "source": [
    "pred = rg.predict(x_2_test_pca)"
   ]
  },
  {
   "cell_type": "code",
   "execution_count": 217,
   "id": "969494aa",
   "metadata": {},
   "outputs": [
    {
     "data": {
      "image/png": "[encoded data removed]",
      "text/plain": [
       "<Figure size 864x720 with 1 Axes>"
      ]
     },
     "metadata": {},
     "output_type": "display_data"
    }
   ],
   "source": [
    "plt.figure(figsize = (12,10))\n",
    "\n",
    "plt.scatter(x_2_test_pca[:, 0], x_2_test_pca[:, 1], c=pred)\n",
    "\n",
    "y_vals = intercept + (slope * x_2_train_pca[:, 0])\n",
    "\n",
    "plt.plot(x_2_train_pca[:, 0], y_vals, c=\"k\")\n",
    "\n",
    "\n",
    "plt.title('Decision Boundary')\n",
    "plt.ylim((-30, 60))\n",
    "plt.show()"
   ]
  },
  {
   "cell_type": "code",
   "execution_count": 219,
   "id": "ab7c39c4",
   "metadata": {},
   "outputs": [
    {
     "data": {
      "text/plain": [
       "0.2857142857142857"
      ]
     },
     "execution_count": 219,
     "metadata": {},
     "output_type": "execute_result"
    }
   ],
   "source": [
    "precision = precision_score(y_2_test, pred)\n",
    "precision"
   ]
  },
  {
   "cell_type": "markdown",
   "id": "d92d86e1",
   "metadata": {},
   "source": [
    "### 2. Regresión Logística + Ridge"
   ]
  },
  {
   "cell_type": "code",
   "execution_count": 221,
   "id": "01f7c45f",
   "metadata": {},
   "outputs": [
    {
     "name": "stdout",
     "output_type": "stream",
     "text": [
      "-- Epoch 1\n",
      "Norm: 47.39, NNZs: 6, Bias: -2.419633, T: 83, Avg. loss: 24.145928\n",
      "Total training time: 0.00 seconds.\n",
      "-- Epoch 2\n",
      "Norm: 46.21, NNZs: 6, Bias: -13.734173, T: 166, Avg. loss: 21.725994\n",
      "Total training time: 0.00 seconds.\n",
      "-- Epoch 3\n",
      "Norm: 41.46, NNZs: 6, Bias: -12.959857, T: 249, Avg. loss: 16.325582\n",
      "Total training time: 0.00 seconds.\n",
      "-- Epoch 4\n",
      "Norm: 48.91, NNZs: 6, Bias: -5.853612, T: 332, Avg. loss: 15.632418\n",
      "Total training time: 0.00 seconds.\n",
      "-- Epoch 5\n",
      "Norm: 28.32, NNZs: 6, Bias: -19.480309, T: 415, Avg. loss: 17.676797\n",
      "Total training time: 0.00 seconds.\n",
      "-- Epoch 6\n",
      "Norm: 37.77, NNZs: 6, Bias: 6.635184, T: 498, Avg. loss: 15.402782\n",
      "Total training time: 0.00 seconds.\n",
      "-- Epoch 7\n",
      "Norm: 37.41, NNZs: 6, Bias: -21.536312, T: 581, Avg. loss: 16.086656\n",
      "Total training time: 0.00 seconds.\n",
      "-- Epoch 8\n",
      "Norm: 36.76, NNZs: 6, Bias: -10.817661, T: 664, Avg. loss: 17.352235\n",
      "Total training time: 0.00 seconds.\n",
      "-- Epoch 9\n",
      "Norm: 33.89, NNZs: 6, Bias: -31.953423, T: 747, Avg. loss: 8.914816\n",
      "Total training time: 0.00 seconds.\n",
      "-- Epoch 10\n",
      "Norm: 26.02, NNZs: 6, Bias: 0.128469, T: 830, Avg. loss: 16.501017\n",
      "Total training time: 0.00 seconds.\n",
      "-- Epoch 11\n",
      "Norm: 30.08, NNZs: 6, Bias: -2.598293, T: 913, Avg. loss: 12.501105\n",
      "Total training time: 0.00 seconds.\n",
      "-- Epoch 12\n",
      "Norm: 20.48, NNZs: 6, Bias: 6.960132, T: 996, Avg. loss: 11.362851\n",
      "Total training time: 0.00 seconds.\n",
      "-- Epoch 13\n",
      "Norm: 23.46, NNZs: 6, Bias: 1.439371, T: 1079, Avg. loss: 8.825452\n",
      "Total training time: 0.00 seconds.\n",
      "-- Epoch 14\n",
      "Norm: 23.05, NNZs: 6, Bias: 9.555054, T: 1162, Avg. loss: 10.389738\n",
      "Total training time: 0.00 seconds.\n",
      "-- Epoch 15\n",
      "Norm: 22.80, NNZs: 6, Bias: -5.681941, T: 1245, Avg. loss: 11.846040\n",
      "Total training time: 0.00 seconds.\n",
      "-- Epoch 16\n",
      "Norm: 20.80, NNZs: 6, Bias: -6.544447, T: 1328, Avg. loss: 11.498958\n",
      "Total training time: 0.00 seconds.\n",
      "-- Epoch 17\n",
      "Norm: 27.91, NNZs: 6, Bias: -12.948934, T: 1411, Avg. loss: 10.336407\n",
      "Total training time: 0.00 seconds.\n",
      "-- Epoch 18\n",
      "Norm: 31.38, NNZs: 6, Bias: -17.592746, T: 1494, Avg. loss: 7.945991\n",
      "Total training time: 0.00 seconds.\n",
      "-- Epoch 19\n",
      "Norm: 28.53, NNZs: 6, Bias: -10.078005, T: 1577, Avg. loss: 9.069052\n",
      "Total training time: 0.00 seconds.\n",
      "-- Epoch 20\n",
      "Norm: 21.35, NNZs: 6, Bias: -0.318407, T: 1660, Avg. loss: 9.503487\n",
      "Total training time: 0.00 seconds.\n",
      "-- Epoch 21\n",
      "Norm: 14.46, NNZs: 6, Bias: -5.865441, T: 1743, Avg. loss: 8.362939\n",
      "Total training time: 0.00 seconds.\n",
      "-- Epoch 22\n",
      "Norm: 19.77, NNZs: 6, Bias: 7.935679, T: 1826, Avg. loss: 8.451099\n",
      "Total training time: 0.00 seconds.\n",
      "-- Epoch 23\n",
      "Norm: 20.20, NNZs: 6, Bias: -2.588338, T: 1909, Avg. loss: 8.308507\n",
      "Total training time: 0.00 seconds.\n",
      "Convergence after 23 epochs took 0.00 seconds\n"
     ]
    },
    {
     "data": {
      "text/plain": [
       "SGDClassifier(l1_ratio=0.01, loss='log', max_iter=10000, verbose=1)"
      ]
     },
     "execution_count": 221,
     "metadata": {},
     "output_type": "execute_result"
    }
   ],
   "source": [
    "rg_R = SGDClassifier(loss = 'log', l1_ratio=0.01, verbose=1, penalty='l2', max_iter=10000)\n",
    "rg_R.fit(x_2_train_pca, y_2_train)"
   ]
  },
  {
   "cell_type": "code",
   "execution_count": 223,
   "id": "39ad85da",
   "metadata": {},
   "outputs": [
    {
     "name": "stdout",
     "output_type": "stream",
     "text": [
      "[2.09038972]\n"
     ]
    }
   ],
   "source": [
    "intercept_R = -(rg_R.intercept_/rg_R.coef_[0][1])\n",
    "print(intercept_R)"
   ]
  },
  {
   "cell_type": "code",
   "execution_count": 224,
   "id": "652e82fd",
   "metadata": {},
   "outputs": [
    {
     "name": "stdout",
     "output_type": "stream",
     "text": [
      "-1.5267351885782556\n"
     ]
    }
   ],
   "source": [
    "slope_R = -(rg_R.coef_[0][0]/ rg_R.coef_[0][1])\n",
    "print(slope_R)"
   ]
  },
  {
   "cell_type": "code",
   "execution_count": 231,
   "id": "b22679ff",
   "metadata": {},
   "outputs": [
    {
     "data": {
      "image/png": "[encoded data removed]",
      "text/plain": [
       "<Figure size 864x720 with 1 Axes>"
      ]
     },
     "metadata": {},
     "output_type": "display_data"
    }
   ],
   "source": [
    "plt.figure(figsize=(12,10))\n",
    "plt.scatter(x_2_train_pca[:, 2], x_2_train_pca[:, 3], c=y_2_train[:])\n",
    "y_vals_2 = intercept_R + (slope_R * x_2_train_pca[:, 0])\n",
    "plt.plot(x_2_train_pca[:, 0], y_vals_2, c=\"k\")\n",
    "plt.title('Decision Boundary')\n",
    "plt.ylim((-30, 60))\n",
    "plt.show()"
   ]
  },
  {
   "cell_type": "code",
   "execution_count": 227,
   "id": "1c143fe1",
   "metadata": {},
   "outputs": [],
   "source": [
    "pred_R = rg_R.predict(x_2_test_pca)"
   ]
  },
  {
   "cell_type": "code",
   "execution_count": 230,
   "id": "bba9131c",
   "metadata": {},
   "outputs": [
    {
     "data": {
      "image/png": "[encoded data removed]",
      "text/plain": [
       "<Figure size 864x720 with 1 Axes>"
      ]
     },
     "metadata": {},
     "output_type": "display_data"
    }
   ],
   "source": [
    "plt.figure(figsize = (12,10))\n",
    "\n",
    "plt.scatter(x_2_test_pca[:, 0], x_2_test_pca[:, 1], c=pred)\n",
    "\n",
    "y_vals_2 = intercept_R + (slope_R * x_2_train_pca[:, 0])\n",
    "\n",
    "plt.plot(x_2_train_pca[:, 0], y_vals_2, c=\"k\")\n",
    "\n",
    "\n",
    "plt.title('Decision Boundary')\n",
    "plt.ylim((-30, 60))\n",
    "plt.show()"
   ]
  },
  {
   "cell_type": "code",
   "execution_count": 229,
   "id": "ef773b86",
   "metadata": {},
   "outputs": [
    {
     "data": {
      "text/plain": [
       "0.5"
      ]
     },
     "execution_count": 229,
     "metadata": {},
     "output_type": "execute_result"
    }
   ],
   "source": [
    "precision_R = precision_score(y_2_test, pred_R)\n",
    "precision_R"
   ]
  },
  {
   "cell_type": "markdown",
   "id": "7efa392b",
   "metadata": {},
   "source": [
    "Ambos modelos siguen siendo malos para la clasificación. Creo que tiene que ver con que las otras variables no aportan mucha información con respecto a la variable de salida como vimos con el coeficiente de Kendall. "
   ]
  },
  {
   "cell_type": "code",
   "execution_count": null,
   "id": "faec2fd1",
   "metadata": {},
   "outputs": [],
   "source": []
  }
 ],
 "metadata": {
  "kernelspec": {
   "display_name": "introia",
   "language": "python",
   "name": "introia"
  },
  "language_info": {
   "codemirror_mode": {
    "name": "ipython",
    "version": 3
   },
   "file_extension": ".py",
   "mimetype": "text/x-python",
   "name": "python",
   "nbconvert_exporter": "python",
   "pygments_lexer": "ipython3",
   "version": "3.9.1"
  }
 },
 "nbformat": 4,
 "nbformat_minor": 5
}
